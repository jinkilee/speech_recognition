{
 "cells": [
  {
   "cell_type": "markdown",
   "metadata": {},
   "source": [
    "reference:\n",
    "- (aihub): http://aihub.or.kr/sites/default/files/2019-12/%ED%95%9C%EA%B5%AD%EC%96%B4%20%EC%9D%8C%EC%84%B1%20%EC%A0%84%EC%82%AC%EA%B7%9C%EC%B9%99%20v1.0.pdf\n",
    "- (audio file understanding): https://m.blog.naver.com/PostView.nhn?blogId=yeominrock&logNo=167235723&proxyReferer=https%3A%2F%2Fwww.google.com%2F"
   ]
  },
  {
   "cell_type": "code",
   "execution_count": 1,
   "metadata": {},
   "outputs": [],
   "source": [
    "import sys\n",
    "sys.path.insert(0, '../')"
   ]
  },
  {
   "cell_type": "code",
   "execution_count": 70,
   "metadata": {},
   "outputs": [],
   "source": [
    "import os\n",
    "import glob\n",
    "import numpy as np\n",
    "import torch\n",
    "from feature import create_mfcc\n",
    "from modeling import Listener, Speller, LAS"
   ]
  },
  {
   "cell_type": "code",
   "execution_count": 3,
   "metadata": {},
   "outputs": [],
   "source": [
    "maxlen = 77\n",
    "input_size = 39\n",
    "listener_hidden_size = 256\n",
    "speller_hidden_size = 2*listener_hidden_size\n",
    "n_batch = 1\n",
    "n_char = 63  # 61 classes + sos & eos"
   ]
  },
  {
   "cell_type": "code",
   "execution_count": 67,
   "metadata": {},
   "outputs": [
    {
     "name": "stdout",
     "output_type": "stream",
     "text": [
      "ls: cannot access '../wave/0.and': No such file or directory\r\n"
     ]
    }
   ],
   "source": [
    "61.2"
   ]
  },
  {
   "cell_type": "code",
   "execution_count": 4,
   "metadata": {},
   "outputs": [
    {
     "name": "stderr",
     "output_type": "stream",
     "text": [
      "WARNING:root:frame length (1103) is greater than FFT size (512), frame will be truncated. Increase NFFT to avoid.\n"
     ]
    },
    {
     "data": {
      "text/plain": [
       "((704, 39), 704)"
      ]
     },
     "execution_count": 4,
     "metadata": {},
     "output_type": "execute_result"
    }
   ],
   "source": [
    "inp, inp_shape = create_mfcc('../wave/0.wav')\n",
    "inp.shape, inp_shape"
   ]
  },
  {
   "cell_type": "code",
   "execution_count": 5,
   "metadata": {},
   "outputs": [],
   "source": [
    "# make random input\n",
    "inp = torch.FloatTensor(inp).unsqueeze(dim=0)\n",
    "lbl = np.random.randint(0, n_char, (n_batch, maxlen))"
   ]
  },
  {
   "cell_type": "code",
   "execution_count": 6,
   "metadata": {},
   "outputs": [
    {
     "data": {
      "text/plain": [
       "(torch.Size([1, 704, 39]), (1, 77))"
      ]
     },
     "execution_count": 6,
     "metadata": {},
     "output_type": "execute_result"
    }
   ],
   "source": [
    "inp.shape, lbl.shape"
   ]
  },
  {
   "cell_type": "code",
   "execution_count": 7,
   "metadata": {},
   "outputs": [],
   "source": [
    "model = LAS(\n",
    "    input_size=input_size,\n",
    "    listener_hidden_size=listener_hidden_size,\n",
    "    speller_hidden_size=speller_hidden_size,\n",
    "    output_class_dim=n_char,\n",
    "    max_label_len=maxlen,\n",
    ")"
   ]
  },
  {
   "cell_type": "code",
   "execution_count": 8,
   "metadata": {},
   "outputs": [
    {
     "name": "stdout",
     "output_type": "stream",
     "text": [
      "raw_pred_seq: 77\n",
      "raw_pred_seq[0]: torch.Size([1, 63])\n",
      "attention_record: 77\n"
     ]
    }
   ],
   "source": [
    "raw_pred_seq, attention_record = model(inp)\n",
    "print('raw_pred_seq: {}'.format(len(raw_pred_seq)))\n",
    "print('raw_pred_seq[0]: {}'.format(raw_pred_seq[0].shape))\n",
    "print('attention_record: {}'.format(len(attention_record)))"
   ]
  },
  {
   "cell_type": "code",
   "execution_count": null,
   "metadata": {},
   "outputs": [],
   "source": []
  },
  {
   "cell_type": "code",
   "execution_count": null,
   "metadata": {},
   "outputs": [],
   "source": []
  },
  {
   "cell_type": "markdown",
   "metadata": {},
   "source": [
    "### input file"
   ]
  },
  {
   "cell_type": "code",
   "execution_count": 1,
   "metadata": {},
   "outputs": [],
   "source": [
    "import sys\n",
    "sys.path.insert(0, '../Korean-Speech-Recognition/')"
   ]
  },
  {
   "cell_type": "code",
   "execution_count": 2,
   "metadata": {},
   "outputs": [
    {
     "ename": "FileNotFoundError",
     "evalue": "[Errno 2] No such file or directory: './data/label/train_labels.csv'",
     "output_type": "error",
     "traceback": [
      "\u001b[0;31m---------------------------------------------------------------------------\u001b[0m",
      "\u001b[0;31mFileNotFoundError\u001b[0m                         Traceback (most recent call last)",
      "\u001b[0;32m<ipython-input-2-385bfc5f28de>\u001b[0m in \u001b[0;36m<module>\u001b[0;34m\u001b[0m\n\u001b[1;32m      2\u001b[0m \u001b[0;32mimport\u001b[0m \u001b[0mqueue\u001b[0m\u001b[0;34m\u001b[0m\u001b[0;34m\u001b[0m\u001b[0m\n\u001b[1;32m      3\u001b[0m \u001b[0;32mimport\u001b[0m \u001b[0mos\u001b[0m\u001b[0;34m\u001b[0m\u001b[0;34m\u001b[0m\u001b[0m\n\u001b[0;32m----> 4\u001b[0;31m \u001b[0;32mfrom\u001b[0m \u001b[0mpackage\u001b[0m\u001b[0;34m.\u001b[0m\u001b[0mdataset\u001b[0m \u001b[0;32mimport\u001b[0m \u001b[0mBaseDataset\u001b[0m\u001b[0;34m,\u001b[0m \u001b[0msplit_dataset\u001b[0m\u001b[0;34m\u001b[0m\u001b[0;34m\u001b[0m\u001b[0m\n\u001b[0m\u001b[1;32m      5\u001b[0m \u001b[0;32mfrom\u001b[0m \u001b[0mpackage\u001b[0m\u001b[0;34m.\u001b[0m\u001b[0mconfig\u001b[0m \u001b[0;32mimport\u001b[0m \u001b[0mConfig\u001b[0m\u001b[0;34m\u001b[0m\u001b[0;34m\u001b[0m\u001b[0m\n\u001b[1;32m      6\u001b[0m \u001b[0;32mfrom\u001b[0m \u001b[0mpackage\u001b[0m\u001b[0;34m.\u001b[0m\u001b[0mdefinition\u001b[0m \u001b[0;32mimport\u001b[0m \u001b[0mEOS_TOKEN\u001b[0m\u001b[0;34m,\u001b[0m \u001b[0mlogger\u001b[0m\u001b[0;34m,\u001b[0m \u001b[0mSOS_TOKEN\u001b[0m\u001b[0;34m\u001b[0m\u001b[0;34m\u001b[0m\u001b[0m\n",
      "\u001b[0;32m~/workspace/git/LAS/Korean-Speech-Recognition/package/dataset.py\u001b[0m in \u001b[0;36m<module>\u001b[0;34m\u001b[0m\n\u001b[1;32m      2\u001b[0m \u001b[0;32mimport\u001b[0m \u001b[0mrandom\u001b[0m\u001b[0;34m\u001b[0m\u001b[0;34m\u001b[0m\u001b[0m\n\u001b[1;32m      3\u001b[0m \u001b[0;32mfrom\u001b[0m \u001b[0mtorch\u001b[0m\u001b[0;34m.\u001b[0m\u001b[0mutils\u001b[0m\u001b[0;34m.\u001b[0m\u001b[0mdata\u001b[0m \u001b[0;32mimport\u001b[0m \u001b[0mDataset\u001b[0m\u001b[0;34m\u001b[0m\u001b[0;34m\u001b[0m\u001b[0m\n\u001b[0;32m----> 4\u001b[0;31m \u001b[0;32mfrom\u001b[0m \u001b[0mpackage\u001b[0m\u001b[0;34m.\u001b[0m\u001b[0mdefinition\u001b[0m \u001b[0;32mimport\u001b[0m \u001b[0mEOS_TOKEN\u001b[0m\u001b[0;34m,\u001b[0m \u001b[0mlogger\u001b[0m\u001b[0;34m,\u001b[0m \u001b[0mSOS_TOKEN\u001b[0m\u001b[0;34m\u001b[0m\u001b[0;34m\u001b[0m\u001b[0m\n\u001b[0m\u001b[1;32m      5\u001b[0m \u001b[0;32mfrom\u001b[0m \u001b[0mpackage\u001b[0m\u001b[0;34m.\u001b[0m\u001b[0mfeature\u001b[0m \u001b[0;32mimport\u001b[0m \u001b[0mspec_augment\u001b[0m\u001b[0;34m,\u001b[0m \u001b[0mget_librosa_melspectrogram\u001b[0m\u001b[0;34m\u001b[0m\u001b[0;34m\u001b[0m\u001b[0m\n\u001b[1;32m      6\u001b[0m \u001b[0;32mfrom\u001b[0m \u001b[0mpackage\u001b[0m\u001b[0;34m.\u001b[0m\u001b[0mutils\u001b[0m \u001b[0;32mimport\u001b[0m \u001b[0mget_label\u001b[0m\u001b[0;34m,\u001b[0m \u001b[0msave_pickle\u001b[0m\u001b[0;34m\u001b[0m\u001b[0;34m\u001b[0m\u001b[0m\n",
      "\u001b[0;32m~/workspace/git/LAS/Korean-Speech-Recognition/package/definition.py\u001b[0m in \u001b[0;36m<module>\u001b[0;34m\u001b[0m\n\u001b[1;32m     18\u001b[0m \u001b[0mlogger\u001b[0m\u001b[0;34m.\u001b[0m\u001b[0msetLevel\u001b[0m\u001b[0;34m(\u001b[0m\u001b[0mlogging\u001b[0m\u001b[0;34m.\u001b[0m\u001b[0mINFO\u001b[0m\u001b[0;34m)\u001b[0m\u001b[0;34m\u001b[0m\u001b[0;34m\u001b[0m\u001b[0m\n\u001b[1;32m     19\u001b[0m \u001b[0;32mfrom\u001b[0m \u001b[0mpackage\u001b[0m\u001b[0;34m.\u001b[0m\u001b[0mloader\u001b[0m \u001b[0;32mimport\u001b[0m \u001b[0mload_label\u001b[0m\u001b[0;34m\u001b[0m\u001b[0;34m\u001b[0m\u001b[0m\n\u001b[0;32m---> 20\u001b[0;31m \u001b[0mchar2id\u001b[0m\u001b[0;34m,\u001b[0m \u001b[0mid2char\u001b[0m \u001b[0;34m=\u001b[0m \u001b[0mload_label\u001b[0m\u001b[0;34m(\u001b[0m\u001b[0;34m'./data/label/train_labels.csv'\u001b[0m\u001b[0;34m,\u001b[0m \u001b[0mencoding\u001b[0m\u001b[0;34m=\u001b[0m\u001b[0;34m'utf-8'\u001b[0m\u001b[0;34m)\u001b[0m \u001b[0;31m# 2,040\u001b[0m\u001b[0;34m\u001b[0m\u001b[0;34m\u001b[0m\u001b[0m\n\u001b[0m\u001b[1;32m     21\u001b[0m \u001b[0;31m# if you want to use total character label\u001b[0m\u001b[0;34m\u001b[0m\u001b[0;34m\u001b[0m\u001b[0;34m\u001b[0m\u001b[0m\n\u001b[1;32m     22\u001b[0m \u001b[0;31m# change => char2id, id2char = load_label('./data/label/test_labels.csv', encoding='utf-8') # 2,337\u001b[0m\u001b[0;34m\u001b[0m\u001b[0;34m\u001b[0m\u001b[0;34m\u001b[0m\u001b[0m\n",
      "\u001b[0;32m~/workspace/git/LAS/Korean-Speech-Recognition/package/loader.py\u001b[0m in \u001b[0;36mload_label\u001b[0;34m(label_path, encoding)\u001b[0m\n\u001b[1;32m    205\u001b[0m     \u001b[0mid2char\u001b[0m \u001b[0;34m=\u001b[0m \u001b[0mdict\u001b[0m\u001b[0;34m(\u001b[0m\u001b[0;34m)\u001b[0m\u001b[0;34m\u001b[0m\u001b[0;34m\u001b[0m\u001b[0m\n\u001b[1;32m    206\u001b[0m \u001b[0;34m\u001b[0m\u001b[0m\n\u001b[0;32m--> 207\u001b[0;31m     \u001b[0;32mwith\u001b[0m \u001b[0mopen\u001b[0m\u001b[0;34m(\u001b[0m\u001b[0mlabel_path\u001b[0m\u001b[0;34m,\u001b[0m \u001b[0;34m'r'\u001b[0m\u001b[0;34m,\u001b[0m \u001b[0mencoding\u001b[0m\u001b[0;34m=\u001b[0m\u001b[0mencoding\u001b[0m\u001b[0;34m)\u001b[0m \u001b[0;32mas\u001b[0m \u001b[0mf\u001b[0m\u001b[0;34m:\u001b[0m\u001b[0;34m\u001b[0m\u001b[0;34m\u001b[0m\u001b[0m\n\u001b[0m\u001b[1;32m    208\u001b[0m         \u001b[0mlabels\u001b[0m \u001b[0;34m=\u001b[0m \u001b[0mcsv\u001b[0m\u001b[0;34m.\u001b[0m\u001b[0mreader\u001b[0m\u001b[0;34m(\u001b[0m\u001b[0mf\u001b[0m\u001b[0;34m,\u001b[0m \u001b[0mdelimiter\u001b[0m\u001b[0;34m=\u001b[0m\u001b[0;34m','\u001b[0m\u001b[0;34m)\u001b[0m\u001b[0;34m\u001b[0m\u001b[0;34m\u001b[0m\u001b[0m\n\u001b[1;32m    209\u001b[0m         \u001b[0mnext\u001b[0m\u001b[0;34m(\u001b[0m\u001b[0mlabels\u001b[0m\u001b[0;34m)\u001b[0m\u001b[0;34m\u001b[0m\u001b[0;34m\u001b[0m\u001b[0m\n",
      "\u001b[0;31mFileNotFoundError\u001b[0m: [Errno 2] No such file or directory: './data/label/train_labels.csv'"
     ]
    }
   ],
   "source": [
    "import glob\n",
    "import queue\n",
    "import os\n",
    "from package.dataset import BaseDataset, split_dataset\n",
    "from package.config import Config\n",
    "from package.definition import EOS_TOKEN, logger, SOS_TOKEN\n",
    "from package.loader import load_data_list, load_targets, MultiLoader, BaseDataLoader"
   ]
  },
  {
   "cell_type": "code",
   "execution_count": null,
   "metadata": {},
   "outputs": [],
   "source": [
    "data_path = '/data_hdd/stt/KsponSpeech_sample'"
   ]
  },
  {
   "cell_type": "code",
   "execution_count": 3,
   "metadata": {},
   "outputs": [
    {
     "ename": "NameError",
     "evalue": "name 'data_path' is not defined",
     "output_type": "error",
     "traceback": [
      "\u001b[0;31m---------------------------------------------------------------------------\u001b[0m",
      "\u001b[0;31mNameError\u001b[0m                                 Traceback (most recent call last)",
      "\u001b[0;32m<ipython-input-3-fc52b3ddebe9>\u001b[0m in \u001b[0;36m<module>\u001b[0;34m\u001b[0m\n\u001b[0;32m----> 1\u001b[0;31m \u001b[0mpcm_files\u001b[0m \u001b[0;34m=\u001b[0m \u001b[0msorted\u001b[0m\u001b[0;34m(\u001b[0m\u001b[0mglob\u001b[0m\u001b[0;34m.\u001b[0m\u001b[0mglob\u001b[0m\u001b[0;34m(\u001b[0m\u001b[0mos\u001b[0m\u001b[0;34m.\u001b[0m\u001b[0mpath\u001b[0m\u001b[0;34m.\u001b[0m\u001b[0mjoin\u001b[0m\u001b[0;34m(\u001b[0m\u001b[0mdata_path\u001b[0m\u001b[0;34m,\u001b[0m \u001b[0;34m'*.pcm'\u001b[0m\u001b[0;34m)\u001b[0m\u001b[0;34m)\u001b[0m\u001b[0;34m)\u001b[0m\u001b[0;34m\u001b[0m\u001b[0;34m\u001b[0m\u001b[0m\n\u001b[0m\u001b[1;32m      2\u001b[0m \u001b[0mtxt_files\u001b[0m \u001b[0;34m=\u001b[0m \u001b[0msorted\u001b[0m\u001b[0;34m(\u001b[0m\u001b[0mglob\u001b[0m\u001b[0;34m.\u001b[0m\u001b[0mglob\u001b[0m\u001b[0;34m(\u001b[0m\u001b[0mos\u001b[0m\u001b[0;34m.\u001b[0m\u001b[0mpath\u001b[0m\u001b[0;34m.\u001b[0m\u001b[0mjoin\u001b[0m\u001b[0;34m(\u001b[0m\u001b[0mdata_path\u001b[0m\u001b[0;34m,\u001b[0m \u001b[0;34m'*.txt'\u001b[0m\u001b[0;34m)\u001b[0m\u001b[0;34m)\u001b[0m\u001b[0;34m)\u001b[0m\u001b[0;34m\u001b[0m\u001b[0;34m\u001b[0m\u001b[0m\n",
      "\u001b[0;31mNameError\u001b[0m: name 'data_path' is not defined"
     ]
    }
   ],
   "source": [
    "pcm_files = sorted(glob.glob(os.path.join(data_path, '*.pcm')))\n",
    "txt_files = sorted(glob.glob(os.path.join(data_path, '*.txt')))"
   ]
  },
  {
   "cell_type": "code",
   "execution_count": 5,
   "metadata": {},
   "outputs": [
    {
     "name": "stdout",
     "output_type": "stream",
     "text": [
      "/data_hdd/stt/KsponSpeech_sample/KsponSpeech_000001.txt /data_hdd/stt/KsponSpeech_sample/KsponSpeech_000001.pcm\n"
     ]
    }
   ],
   "source": [
    "for t, p in zip(txt_files, pcm_files):\n",
    "    print(t, p)\n",
    "    break"
   ]
  },
  {
   "cell_type": "code",
   "execution_count": 6,
   "metadata": {},
   "outputs": [],
   "source": [
    "# BaseDataset(\n",
    "#     audio_paths=pcm_files,\n",
    "#     label_paths=txt_files,\n",
    "#     sos_id=SOS_TOKEN, eos_id=EOS_TOKEN,\n",
    "#     target_dict=target_dict,\n",
    "#     input_reverse=config.input_reverse,\n",
    "#     use_augment=config.use_augment,\n",
    "#     batch_size=config.batch_size,\n",
    "#     augment_ratio=config.augment_ratio,\n",
    "#     pack_by_length=config.pack_by_length\n",
    "# )"
   ]
  },
  {
   "cell_type": "code",
   "execution_count": 7,
   "metadata": {},
   "outputs": [
    {
     "name": "stdout",
     "output_type": "stream",
     "text": [
      "[2020-04-01 17:58:12,376 config.py:88 - print_log()] use_bidirectional : True\n",
      "[2020-04-01 17:58:12,377 config.py:89 - print_log()] use_attention : True\n",
      "[2020-04-01 17:58:12,378 config.py:90 - print_log()] use_pickle : False\n",
      "[2020-04-01 17:58:12,379 config.py:91 - print_log()] use_augment : True\n",
      "[2020-04-01 17:58:12,380 config.py:92 - print_log()] use_pyramidal : False\n",
      "[2020-04-01 17:58:12,381 config.py:93 - print_log()] augment_ratio : 1.00\n",
      "[2020-04-01 17:58:12,383 config.py:94 - print_log()] input_reverse : True\n",
      "[2020-04-01 17:58:12,384 config.py:95 - print_log()] hidden_size : 256\n",
      "[2020-04-01 17:58:12,385 config.py:96 - print_log()] listener_layer_size : 5\n",
      "[2020-04-01 17:58:12,387 config.py:97 - print_log()] speller_layer_size : 3\n",
      "[2020-04-01 17:58:12,388 config.py:98 - print_log()] dropout : 0.50\n",
      "[2020-04-01 17:58:12,389 config.py:99 - print_log()] batch_size : 6\n",
      "[2020-04-01 17:58:12,390 config.py:100 - print_log()] worker_num : 1\n",
      "[2020-04-01 17:58:12,390 config.py:101 - print_log()] max_epochs : 40\n",
      "[2020-04-01 17:58:12,390 config.py:102 - print_log()] initial learning rate : 0.0001\n",
      "[2020-04-01 17:58:12,391 config.py:106 - print_log()] teacher_forcing_ratio : 0.90\n",
      "[2020-04-01 17:58:12,391 config.py:107 - print_log()] seed : 1\n",
      "[2020-04-01 17:58:12,391 config.py:108 - print_log()] max_len : 151\n",
      "[2020-04-01 17:58:12,391 config.py:109 - print_log()] use_cuda : True\n"
     ]
    }
   ],
   "source": [
    "config = Config(\n",
    "    use_bidirectional = True,\n",
    "    use_attention = True,\n",
    "    use_label_smooth = True,\n",
    "    input_reverse = True,\n",
    "    use_augment = True,\n",
    "    use_pickle = False,\n",
    "    use_pyramidal = False,\n",
    "    use_cuda = True,\n",
    "    pack_by_length = True,\n",
    "    augment_ratio = 1.0,\n",
    "    hidden_size = 256,\n",
    "    dropout = 0.5,\n",
    "    listener_layer_size = 5,\n",
    "    speller_layer_size = 3,\n",
    "    batch_size = 6,\n",
    "    worker_num = 1,\n",
    "    max_epochs = 40,\n",
    "    use_multistep_lr = False,\n",
    "    init_lr = 0.0001,\n",
    "    high_plateau_lr = 0.0003,\n",
    "    low_plateau_lr = 0.00001,\n",
    "    teacher_forcing = 0.90,\n",
    "    seed = 1,\n",
    "    max_len = 151\n",
    ")"
   ]
  },
  {
   "cell_type": "code",
   "execution_count": 8,
   "metadata": {},
   "outputs": [
    {
     "name": "stderr",
     "output_type": "stream",
     "text": [
      "100%|██████████| 100/100 [00:00<00:00, 13832.09it/s]"
     ]
    },
    {
     "name": "stdout",
     "output_type": "stream",
     "text": [
      "[2020-04-01 17:58:12,464 utils.py:150 - save_pickle()] target_dict save complete !!\n"
     ]
    },
    {
     "name": "stderr",
     "output_type": "stream",
     "text": [
      "\n"
     ]
    }
   ],
   "source": [
    "if config.use_pickle:\n",
    "    target_dict = load_pickle(TARGET_DICT_PATH, \"load all target_dict using pickle complete !!\")\n",
    "else:\n",
    "    target_dict = load_targets(txt_files)"
   ]
  },
  {
   "cell_type": "code",
   "execution_count": 9,
   "metadata": {},
   "outputs": [
    {
     "data": {
      "text/plain": [
       "{'KsponSpeech_000001': '아/ 몬 소리야, 그건 또. b/\\n',\n",
       " 'KsponSpeech_000002': '나는 악습은 원래 없어진다+ 없어져야 된다고 생각하긴 했는데 근데 그/ 약간 필요악으로 하나 정도쯤은 있어야 되거든. 물 뜨러 가고.\\n',\n",
       " 'KsponSpeech_000003': 'b/ n/ 그래서 지호랑 계단 n/ 올라와서 b/ 막 위에 운동하는 기구 있대요. b/ 그서 그걸로 운동 할려구요. b/ n/\\n',\n",
       " 'KsponSpeech_000004': '뭐/ 정신과 병원도 그 약 타서 먹어보고, 그 한동안 연락이 안 된 적이 있었단 말이야. 그때가 언제였 언제였더라?\\n',\n",
       " 'KsponSpeech_000005': 'o/ b/ 그게 (0.1프로)/(영 점 일 프로) 가정의 아이들과 가정의 모습이야? b/\\n',\n",
       " 'KsponSpeech_000006': '그/ 친애하는 판사님께라는 법+ 법 관련 드라마 알고 있어?\\n',\n",
       " 'KsponSpeech_000007': 'o/ 그래가지고 진짜 차 사야겠다 아니 뭐/ 차 안 되면 스쿠터라도 타야되겠다 막/ 그런 생각 들더라구 그래서 운전은 하는 게 좋은 거 같애 진짜 b/\\n',\n",
       " 'KsponSpeech_000008': '그래\\n',\n",
       " 'KsponSpeech_000009': 'o/ 나도 몰라. 나 그/ (3G)/(쓰리 쥐)* 하나도 안 봤음. 어.\\n',\n",
       " 'KsponSpeech_000010': '아/ 내일 나 알바하구나.\\n',\n",
       " 'KsponSpeech_000011': 'n/ 아/ 근데 (1시)/(한 시)에 닫는 게 쫌 아쉽긴 한데 거기 진짜 괜찮은데 b/\\n',\n",
       " 'KsponSpeech_000012': '맞아. 시간 안에 풀고 약간 이것부터 풀고 요런 식으로 풀어보렴. 이런 거 b/\\n',\n",
       " 'KsponSpeech_000013': '삼 점대야? 언니가?\\n',\n",
       " 'KsponSpeech_000014': '한+ 한+ 한 시간에 이 만 원? 거의 이 정도로 이 정도란 말이야. b/\\n',\n",
       " 'KsponSpeech_000015': '굳이 싶기도 해. 까* 오히려 사원 이런 것보다는 b/ 대신 돔* 먹+ 먹, 음식 거리, 먹거리가 우리 입맛에 좀 더 맞는 거 같고.\\n',\n",
       " 'KsponSpeech_000016': '아/ 근데 강남 너무 비싸.\\n',\n",
       " 'KsponSpeech_000017': '나, 먼저 집에 가께\\n',\n",
       " 'KsponSpeech_000018': 'o/ l/ 해? 아/ 뭔가 효과가 있어 근데?\\n',\n",
       " 'KsponSpeech_000019': 'n/ 근데 이+ 나만 안 하는 거 같애. 딴 사람들은 다 하고 l/\\n',\n",
       " 'KsponSpeech_000020': 'o/ 아 b/ 설 연휴 때? 집에 있겠네 그럼 거의? b/ 음 그 옆집 사는 애?\\n',\n",
       " 'KsponSpeech_000021': '왜 b/\\n',\n",
       " 'KsponSpeech_000022': '무한도전은 완전 폐지돼서 없어졌는데 너는 무한도전을 자주 잘 챙겨 봤어?\\n',\n",
       " 'KsponSpeech_000023': 'o/ 나 다음 주에 강릉 가는데 같이 가자. b/ 야, 너 근데 학교 기숙사에서 살면 안 되냐?\\n',\n",
       " 'KsponSpeech_000024': '목포 너무 비싸, b/ 어, 시외버스도 비싸고, 한 (3만원)/(삼만 원)인가 그럴걸.\\n',\n",
       " 'KsponSpeech_000025': '근데 왜 그 집을 기억을 못 해?\\n',\n",
       " 'KsponSpeech_000026': '복싱 안 배워봤어?\\n',\n",
       " 'KsponSpeech_000027': 'o/ 아/ 니가 사주는 거였어?\\n',\n",
       " 'KsponSpeech_000028': 'n/ 과학적 근거가 있는 팩튼지\\n',\n",
       " 'KsponSpeech_000029': '알겠어.\\n',\n",
       " 'KsponSpeech_000030': '그/ 카레. 뿌라뽕 커리죠. 그/ 카레랑 같이 이렇게 소스만 만드는 법을 좀 배우면 한번 시도해볼 수도 있지 않을까 싶어요. 특히 좀 겨울철에 먹기에 굉장히 좋은 음식인 거 같아요.\\n',\n",
       " 'KsponSpeech_000031': 'o/ 아/ 그건 절대로 안 할 거야.\\n',\n",
       " 'KsponSpeech_000032': '그렇긴 했는데\\n',\n",
       " 'KsponSpeech_000033': '아 진짜 그러 에이씨 좋은 학교 다니니까 b/ 그런 것도 배우고 부럽다\\n',\n",
       " 'KsponSpeech_000034': 'l/ 불편하잖아, 장갑.\\n',\n",
       " 'KsponSpeech_000035': '응 근데 이거 한 세 시에 끝나니까.\\n',\n",
       " 'KsponSpeech_000036': '글쎄.\\n',\n",
       " 'KsponSpeech_000037': '할머니가 아까 너가 말한 거 같은 복숭아 맛 그런 요플레 l/ 그걸로 해서 드셨던 거 같애.\\n',\n",
       " 'KsponSpeech_000038': 'o/ b/ 네+ 네. b/\\n',\n",
       " 'KsponSpeech_000039': 'o/ b/ 어 배우고 연습+ 연습할 시간이 없는데 어떻게 연습을 해요? 라고 여기까지 찼지만 b/ 아/ 네 할게요로 눌러버+ 눌러버렸지. b/\\n',\n",
       " 'KsponSpeech_000040': 'o/ b/ 대단하다 그런 생각, 난 생각 조차 못 하겠더라. 나는\\n',\n",
       " 'KsponSpeech_000041': 'o/ 그래. 어차피 먹어야 되니까 인제 음/\\n',\n",
       " 'KsponSpeech_000042': 'b/ 빨리 가야 돼.\\n',\n",
       " 'KsponSpeech_000043': '헬스는 끝났어?\\n',\n",
       " 'KsponSpeech_000044': '아니야 좀 심했어, 진짜.\\n',\n",
       " 'KsponSpeech_000045': '불가리아 그쪽인가?\\n',\n",
       " 'KsponSpeech_000046': '전문가용인데, 그/ 막 음너+ 음원 녹음하고 그런 거 올리는 b/ 그런 아이딘가 봐 나 근데 나 잘 모르겠어.\\n',\n",
       " 'KsponSpeech_000047': 'o/ 왜 자랐냐고?\\n',\n",
       " 'KsponSpeech_000048': '재수를 마치고 지금은 알바를 찾고 있는 거 같아.\\n',\n",
       " 'KsponSpeech_000049': 'o/ 아이* 근데 b/ 나는 너무 억지 영화* 억지스러운 웃음 유발. 그래가주고 천만 난 갈+ b/ 간다고 생각 안 했거든.\\n',\n",
       " 'KsponSpeech_000050': 'b/ 뭐 생각해 논 거 있어? b/\\n',\n",
       " 'KsponSpeech_000051': '투표를 뭐/ 자주 할지언정\\n',\n",
       " 'KsponSpeech_000052': 'o/ 아이/ 말해봐.\\n',\n",
       " 'KsponSpeech_000053': 'l/ b/ 그거 찍을 생각을 못 했어.\\n',\n",
       " 'KsponSpeech_000054': '근데 진짜 잘해.\\n',\n",
       " 'KsponSpeech_000055': 'n/ 웃기지 마. 니 l/ 니 제일 좋아했잖아. 내 썰 듣는 거.\\n',\n",
       " 'KsponSpeech_000056': '얘는 바쁘구 나는 여유롭다고 여유로운 사람이 매달리고 어/ 나랑 놀자 이러고 그건 좀 자기 욕심이야. 진짜 자기만 생각하는 거야.\\n',\n",
       " 'KsponSpeech_000057': 'o/ 몰라 아직도 이유를 모르겠어.\\n',\n",
       " 'KsponSpeech_000058': '맞아. 나도 (2015년)/(이천 십 오 년)에 프로필 찍었을 때 b/ 정말 나 혼자 가고 처음 찍는 건데 아예 생판 모르는 포토그래퍼한테 찍어가지고 b/ 어/ 괜찮긴 한데 너무 사진들을 지금 보면 얼굴에 어색함이 b/ 많아가지고 어따 쓸 수도 없고 b/ 컨셉 회의 같은 걸 안 했었어. 근데 나는 그런 걸 원래 하는지 몰랐어.\\n',\n",
       " 'KsponSpeech_000059': '아니, 난 모르겠더라.\\n',\n",
       " 'KsponSpeech_000060': '빨리 일정이 나오면 그래도 어느 정돈 하는데.\\n',\n",
       " 'KsponSpeech_000061': '당연하지. 우리 아파트 살잖아.\\n',\n",
       " 'KsponSpeech_000062': '아이/ 딱히 효과 없어가지고 안에서 바를 때도.\\n',\n",
       " 'KsponSpeech_000063': '바로 월정리 해수욕장 앞에.\\n',\n",
       " 'KsponSpeech_000064': '어 막 트라이팟이 이런 거 좀 그렇게 보이잖아. 어.\\n',\n",
       " 'KsponSpeech_000065': 'o/ 어 그러지 말라 그래 나 진짜 근데 이번에 또 오면 진짜 차단할 거야.\\n',\n",
       " 'KsponSpeech_000066': '응/ 니가 바리깡 가져오라고 재촉해 가지고 바리깡만 챙겼어. l/\\n',\n",
       " 'KsponSpeech_000067': '어쨌든 걔네+ 걔네랑 이제 내일 오랜만에 만나가지고 밥 먹기로 했는데\\n',\n",
       " 'KsponSpeech_000068': 'o/ 응. b/ 그래+ 아/ 까 b/ 아마 좀 있으면 괜찮아질 거야 이랬거든. 근데 지금 한지 좀 지났는데 아직도 눈이 시리대. 그래서* 병원에 가서 얘길 했더니 b/ 난시가 너무 심한 눈이어서 이게 꽤 오래갈 수도 있다는 거야. b/\\n',\n",
       " 'KsponSpeech_000069': 'b/ 아니야 나, 내가 농구경기 직관 한 번 가봤는데, 밤에 했어.\\n',\n",
       " 'KsponSpeech_000070': 'o/ 근데 대+ 댓글 보니까. 땅콩 드리겠지. 뭐. 이러던데? 어/ 대한 항공. b/\\n',\n",
       " 'KsponSpeech_000071': '야 아직 어리네.\\n',\n",
       " 'KsponSpeech_000072': '근데 너 불닭볶음면 먹었다매. b/\\n',\n",
       " 'KsponSpeech_000073': 'o/ b/ 아무 신경을 안 썼거든? 수사에서 더 한 것도 해 봤잖아. b/\\n',\n",
       " 'KsponSpeech_000074': 'o/ 잠만 기달려봐, 지금. (11시)/(열 한 시). 어차피 니 (11시)/(열 한 시) (20분)/(이십 분)까지 도착해야 되는 거지?\\n',\n",
       " 'KsponSpeech_000075': '아/ 그래서 팔팔이 (1컷)/(일 컷)이 나왔구나. 우리 아이/ 내가 보통 비킬러 풀면은 이/ 비킬러 세무 그에가 킬러 세 문제 빼면은 스물 일곱 문제잖아? 내 스물 일곱 문제 푸는 나는 보통 한 (2)/(이), (30분)/(삼십 분) 걸리고 거기다 (10)/(십 분)?\\n',\n",
       " 'KsponSpeech_000076': 'o/ 요기 살아. n/ 여기 그/ 어디지? 상수동.\\n',\n",
       " 'KsponSpeech_000077': '난 몰라. 뭐하는 덴지\\n',\n",
       " 'KsponSpeech_000078': 'o/ 경영학관데, 연대 경제 뚫었어, 편입으로. 나 진짜* 그래서, b/ 에타 학게가* 있었어. 탈홍합니다. b/\\n',\n",
       " 'KsponSpeech_000079': '진에어나 이런 거 타봤어?\\n',\n",
       " 'KsponSpeech_000080': '근데 저 명지대 다니는데 학교 주변에 막 이대, 연대, 홍대, 서강대 이렇잖아요. 그래서 그런 애들 엄청 무시하더라고요.\\n',\n",
       " 'KsponSpeech_000081': '대강 그렇게 해서 치면은 칠만 한 거 같던데\\n',\n",
       " 'KsponSpeech_000082': '아무튼 순우형.\\n',\n",
       " 'KsponSpeech_000083': '그래 지금 많이 시도 엄마한테 그/ 어머니한테 그때 전화해 가지고 b/\\n',\n",
       " 'KsponSpeech_000084': '나 그걸로 요즘 미생 봐. 아/ 나 요즘 미생 봐, 미생. 어.\\n',\n",
       " 'KsponSpeech_000085': 'n/ 있잖아. n/ 그/ 너 해외여행 간 적 있어?\\n',\n",
       " 'KsponSpeech_000086': 'n/ 재수할 때 많이 와봤지. 여기는.\\n',\n",
       " 'KsponSpeech_000087': '그거야 모르지.\\n',\n",
       " 'KsponSpeech_000088': 'o/ 오/ 신기하다. 음 무슨 알바를 그렇게 신중하게\\n',\n",
       " 'KsponSpeech_000089': 'o/ 응.\\n',\n",
       " 'KsponSpeech_000090': '애들 막/ 못 막잖아.\\n',\n",
       " 'KsponSpeech_000091': 'n/ 금방 가. 네 시까지. n/\\n',\n",
       " 'KsponSpeech_000092': '그 외에는 또 뭐 다른 게, 만들어 먹던 그런 건 없었어?\\n',\n",
       " 'KsponSpeech_000093': '아/ (13일)/(십 삼 일). 너 (13일)/(십 삼 일)날 뭐 한다 했지? n/\\n',\n",
       " 'KsponSpeech_000094': '어. 바로+ 바로 이적했지.\\n',\n",
       " 'KsponSpeech_000095': 'b/ 야 그만 웃으라고.\\n',\n",
       " 'KsponSpeech_000096': 'o/ 근데 우리 신랑이 그런 데만 가면 b/ 그/ 투어버스를 너무 좋아해.\\n',\n",
       " 'KsponSpeech_000097': '예전에는 B 언어였는데. 지금은 C 데, C언어부터 기반을 다져서 게임은 C샾 이라는 걸 써.\\n',\n",
       " 'KsponSpeech_000098': 'n/ 월남쌈 안 먹은 지 오래됐는데. b/\\n',\n",
       " 'KsponSpeech_000099': 'o/ n/ b/ 쌔 차 사니까 아빠가 맨날 자랑해. b/ 등에서 히터 나오고 b/ 엉덩이에서 히터 나오고 막/ b/ 무슨 기능들이 뭐가 이렇게 많다고 설명하는데 하나도 모르겠어 나는. b/ n/\\n',\n",
       " 'KsponSpeech_001000': '(8분)/(팔 분) 타지 않았어?\\n'}"
      ]
     },
     "execution_count": 9,
     "metadata": {},
     "output_type": "execute_result"
    }
   ],
   "source": [
    "target_dict"
   ]
  },
  {
   "cell_type": "code",
   "execution_count": 10,
   "metadata": {},
   "outputs": [
    {
     "name": "stdout",
     "output_type": "stream",
     "text": [
      "[2020-04-01 17:58:12,850 dataset.py:196 - split_dataset()] split dataset start !!\n",
      "[2020-04-01 17:58:12,851 dataset.py:68 - augmentation()] Applying Augmentation...\n",
      "[2020-04-01 17:58:12,852 utils.py:150 - save_pickle()] \n",
      "[2020-04-01 17:58:12,853 utils.py:150 - save_pickle()] \n",
      "[2020-04-01 17:58:12,853 dataset.py:247 - split_dataset()] split dataset complete !!\n"
     ]
    }
   ],
   "source": [
    "total_time_step, train_dataset_list, valid_dataset = split_dataset(\n",
    "    config = config,\n",
    "    audio_paths = pcm_files,\n",
    "    label_paths = txt_files,\n",
    "    valid_ratio = 0.015,\n",
    "    target_dict = target_dict,\n",
    ")"
   ]
  },
  {
   "cell_type": "code",
   "execution_count": 11,
   "metadata": {},
   "outputs": [],
   "source": [
    "train = train_dataset_list[0]"
   ]
  },
  {
   "cell_type": "code",
   "execution_count": 12,
   "metadata": {},
   "outputs": [],
   "source": [
    "train.shuffle()"
   ]
  },
  {
   "cell_type": "code",
   "execution_count": 13,
   "metadata": {},
   "outputs": [],
   "source": [
    "train_queue = queue.Queue(config.worker_num << 1)"
   ]
  },
  {
   "cell_type": "code",
   "execution_count": 25,
   "metadata": {},
   "outputs": [],
   "source": [
    "train_loader = MultiLoader(train_dataset_list, train_queue, config.batch_size, config.worker_num)"
   ]
  },
  {
   "cell_type": "code",
   "execution_count": 26,
   "metadata": {},
   "outputs": [
    {
     "name": "stderr",
     "output_type": "stream",
     "text": [
      "Exception in thread Thread-5:\n",
      "Traceback (most recent call last):\n",
      "  File \"/usr/lib/python3.6/threading.py\", line 916, in _bootstrap_inner\n",
      "    self.run()\n",
      "  File \"../Korean-Speech-Recognition/package/loader.py\", line 82, in run\n",
      "    feat, label = self.dataset.get_item(self.idx)\n",
      "  File \"../Korean-Speech-Recognition/package/dataset.py\", line 53, in get_item\n",
      "    label = get_label(self.label_paths[idx], sos_id=self.sos_id, eos_id=self.eos_id, target_dict=self.target_dict)\n",
      "  File \"../Korean-Speech-Recognition/package/utils.py\", line 79, in get_label\n",
      "    labels.append(int(token))\n",
      "ValueError: invalid literal for int() with base 10: '헬스는'\n",
      "\n"
     ]
    }
   ],
   "source": [
    "train_loader.start()"
   ]
  },
  {
   "cell_type": "code",
   "execution_count": null,
   "metadata": {},
   "outputs": [],
   "source": [
    "a = train_queue.get()"
   ]
  },
  {
   "cell_type": "code",
   "execution_count": null,
   "metadata": {},
   "outputs": [],
   "source": [
    "valid = valid_dataset"
   ]
  },
  {
   "cell_type": "code",
   "execution_count": null,
   "metadata": {},
   "outputs": [],
   "source": []
  },
  {
   "cell_type": "code",
   "execution_count": null,
   "metadata": {},
   "outputs": [],
   "source": []
  },
  {
   "cell_type": "markdown",
   "metadata": {},
   "source": [
    "### audio/text read"
   ]
  },
  {
   "cell_type": "code",
   "execution_count": 1,
   "metadata": {},
   "outputs": [],
   "source": [
    "import sys\n",
    "sys.path.insert(0, '../')"
   ]
  },
  {
   "cell_type": "code",
   "execution_count": 2,
   "metadata": {},
   "outputs": [],
   "source": [
    "import glob\n",
    "import re\n",
    "from tqdm import tqdm\n",
    "from importlib import import_module as import_module\n",
    "from preprocess import preprocess_text, preprocess_audio"
   ]
  },
  {
   "cell_type": "code",
   "execution_count": 3,
   "metadata": {},
   "outputs": [],
   "source": [
    "audio_sample = '/data_hdd/stt/KsponSpeech_sample/KsponSpeech_000001.wav'\n",
    "text_sample = '/data_hdd/stt/KsponSpeech_sample/KsponSpeech_000001.txt'"
   ]
  },
  {
   "cell_type": "code",
   "execution_count": 4,
   "metadata": {},
   "outputs": [],
   "source": [
    "wav_files = glob.glob('/data_hdd/stt/KsponSpeech_sample/*.wav')\n",
    "txt_files = glob.glob('/data_hdd/stt/KsponSpeech_sample/*.txt')"
   ]
  },
  {
   "cell_type": "code",
   "execution_count": 5,
   "metadata": {},
   "outputs": [
    {
     "name": "stderr",
     "output_type": "stream",
     "text": [
      "preprocessing: 100it [00:02, 41.42it/s]\n"
     ]
    }
   ],
   "source": [
    "for wav, txt in tqdm(zip(wav_files, txt_files), desc='preprocessing'):\n",
    "    _mfcc, _ = preprocess_audio(wav)\n",
    "    _txt = preprocess_text(txt)"
   ]
  },
  {
   "cell_type": "code",
   "execution_count": 6,
   "metadata": {},
   "outputs": [
    {
     "data": {
      "text/plain": [
       "(419, 39)"
      ]
     },
     "execution_count": 6,
     "metadata": {},
     "output_type": "execute_result"
    }
   ],
   "source": [
    "_mfcc.shape"
   ]
  },
  {
   "cell_type": "code",
   "execution_count": 7,
   "metadata": {},
   "outputs": [
    {
     "data": {
      "text/plain": [
       "'ㄴㅏ∅ㄴㅡㄴ ㅇㅏㄱㅅㅡㅂㅇㅡㄴ ㅇㅝㄴㄹㅐ∅ ㅇㅓㅄㅇㅓ∅ㅈㅣㄴㄷㅏ∅ ㅇㅓㅄㅇㅓ∅ㅈㅕ∅ㅇㅑ∅ ㄷㅚㄴㄷㅏ∅ㄱㅗ∅ ㅅㅐㅇㄱㅏㄱㅎㅏ∅ㄱㅣㄴ ㅎㅐㅆㄴㅡㄴㄷㅔ∅ ㄱㅡㄴㄷㅔ∅ ㄱㅡ∅ ㅇㅑㄱㄱㅏㄴ ㅍㅣㄹㅇㅛ∅ㅇㅏㄱㅇㅡ∅ㄹㅗ∅ ㅎㅏ∅ㄴㅏ∅ ㅈㅓㅇㄷㅗ∅ㅉㅡㅁㅇㅡㄴ ㅇㅣㅆㅇㅓ∅ㅇㅑ∅ ㄷㅚ∅ㄱㅓ∅ㄷㅡㄴ ㅁㅜㄹ ㄸㅡ∅ㄹㅓ∅ ㄱㅏ∅ㄱㅗ∅'"
      ]
     },
     "execution_count": 7,
     "metadata": {},
     "output_type": "execute_result"
    }
   ],
   "source": [
    "_txt"
   ]
  },
  {
   "cell_type": "code",
   "execution_count": 8,
   "metadata": {},
   "outputs": [
    {
     "name": "stdout",
     "output_type": "stream",
     "text": [
      "/data_hdd/stt/KsponSpeech_sample/KsponSpeech_000011.txt\n",
      "n/ 아/ 근데 (1시)/(한 시)에 닫는 게 쫌 아쉽긴 한데 거기 진짜 괜찮은데 b/\n",
      " ㅇㅏ∅ ㄱㅡㄴㄷㅔ∅ ㅅㅣ∅ㅎㅏㄴ ㅅㅣ∅ㅇㅔ∅ ㄷㅏㄷㄴㅡㄴ ㄱㅔ∅ ㅉㅗㅁ ㅇㅏ∅ㅅㅟㅂㄱㅣㄴ ㅎㅏㄴㄷㅔ∅ ㄱㅓ∅ㄱㅣ∅ ㅈㅣㄴㅉㅏ∅ ㄱㅙㄴㅊㅏㄶㅇㅡㄴㄷㅔ∅ \n",
      "--------\n",
      "/data_hdd/stt/KsponSpeech_sample/KsponSpeech_000099.txt\n",
      "o/ n/ b/ 쌔 차 사니까 아빠가 맨날 자랑해. b/ 등에서 히터 나오고 b/ 엉덩이에서 히터 나오고 막/ b/ 무슨 기능들이 뭐가 이렇게 많다고 설명하는데 하나도 모르겠어 나는. b/ n/\n",
      "   ㅆㅐ∅ ㅊㅏ∅ ㅅㅏ∅ㄴㅣ∅ㄲㅏ∅ ㅇㅏ∅ㅃㅏ∅ㄱㅏ∅ ㅁㅐㄴㄴㅏㄹ ㅈㅏ∅ㄹㅏㅇㅎㅐ∅  ㄷㅡㅇㅇㅔ∅ㅅㅓ∅ ㅎㅣ∅ㅌㅓ∅ ㄴㅏ∅ㅇㅗ∅ㄱㅗ∅  ㅇㅓㅇㄷㅓㅇㅇㅣ∅ㅇㅔ∅ㅅㅓ∅ ㅎㅣ∅ㅌㅓ∅ ㄴㅏ∅ㅇㅗ∅ㄱㅗ∅ ㅁㅏㄱ  ㅁㅜ∅ㅅㅡㄴ ㄱㅣ∅ㄴㅡㅇㄷㅡㄹㅇㅣ∅ ㅁㅝ∅ㄱㅏ∅ ㅇㅣ∅ㄹㅓㅎㄱㅔ∅ ㅁㅏㄶㄷㅏ∅ㄱㅗ∅ ㅅㅓㄹㅁㅕㅇㅎㅏ∅ㄴㅡㄴㄷㅔ∅ ㅎㅏ∅ㄴㅏ∅ㄷㅗ∅ ㅁㅗ∅ㄹㅡ∅ㄱㅔㅆㅇㅓ∅ ㄴㅏ∅ㄴㅡㄴ  \n",
      "--------\n",
      "/data_hdd/stt/KsponSpeech_sample/KsponSpeech_000013.txt\n",
      "삼 점대야? 언니가?\n",
      "ㅅㅏㅁ ㅈㅓㅁㄷㅐ∅ㅇㅑ∅ ㅇㅓㄴㄴㅣ∅ㄱㅏ∅\n",
      "--------\n",
      "/data_hdd/stt/KsponSpeech_sample/KsponSpeech_000088.txt\n",
      "o/ 오/ 신기하다. 음 무슨 알바를 그렇게 신중하게\n",
      " ㅇㅗ∅ ㅅㅣㄴㄱㅣ∅ㅎㅏ∅ㄷㅏ∅ ㅇㅡㅁ ㅁㅜ∅ㅅㅡㄴ ㅇㅏㄹㅂㅏ∅ㄹㅡㄹ ㄱㅡ∅ㄹㅓㅎㄱㅔ∅ ㅅㅣㄴㅈㅜㅇㅎㅏ∅ㄱㅔ∅\n",
      "--------\n",
      "/data_hdd/stt/KsponSpeech_sample/KsponSpeech_000066.txt\n",
      "응/ 니가 바리깡 가져오라고 재촉해 가지고 바리깡만 챙겼어. l/\n",
      "ㅇㅡㅇ ㄴㅣ∅ㄱㅏ∅ ㅂㅏ∅ㄹㅣ∅ㄲㅏㅇ ㄱㅏ∅ㅈㅕ∅ㅇㅗ∅ㄹㅏ∅ㄱㅗ∅ ㅈㅐ∅ㅊㅗㄱㅎㅐ∅ ㄱㅏ∅ㅈㅣ∅ㄱㅗ∅ ㅂㅏ∅ㄹㅣ∅ㄲㅏㅇㅁㅏㄴ ㅊㅐㅇㄱㅕㅆㅇㅓ∅ \n",
      "--------\n",
      "/data_hdd/stt/KsponSpeech_sample/KsponSpeech_000001.txt\n",
      "아/ 몬 소리야, 그건 또. b/\n",
      "ㅇㅏ∅ ㅁㅗㄴ ㅅㅗ∅ㄹㅣ∅ㅇㅑ∅ ㄱㅡ∅ㄱㅓㄴ ㄸㅗ∅ \n",
      "--------\n",
      "/data_hdd/stt/KsponSpeech_sample/KsponSpeech_000004.txt\n",
      "뭐/ 정신과 병원도 그 약 타서 먹어보고, 그 한동안 연락이 안 된 적이 있었단 말이야. 그때가 언제였 언제였더라?\n",
      "ㅁㅝ∅ ㅈㅓㅇㅅㅣㄴㄱㅘ∅ ㅂㅕㅇㅇㅝㄴㄷㅗ∅ ㄱㅡ∅ ㅇㅑㄱ ㅌㅏ∅ㅅㅓ∅ ㅁㅓㄱㅇㅓ∅ㅂㅗ∅ㄱㅗ∅ ㄱㅡ∅ ㅎㅏㄴㄷㅗㅇㅇㅏㄴ ㅇㅕㄴㄹㅏㄱㅇㅣ∅ ㅇㅏㄴ ㄷㅚㄴ ㅈㅓㄱㅇㅣ∅ ㅇㅣㅆㅇㅓㅆㄷㅏㄴ ㅁㅏㄹㅇㅣ∅ㅇㅑ∅ ㄱㅡ∅ㄸㅐ∅ㄱㅏ∅ ㅇㅓㄴㅈㅔ∅ㅇㅕㅆ ㅇㅓㄴㅈㅔ∅ㅇㅕㅆㄷㅓ∅ㄹㅏ∅\n",
      "--------\n",
      "/data_hdd/stt/KsponSpeech_sample/KsponSpeech_000006.txt\n",
      "그/ 친애하는 판사님께라는 법+ 법 관련 드라마 알고 있어?\n",
      "ㄱㅡ∅ ㅊㅣㄴㅇㅐ∅ㅎㅏ∅ㄴㅡㄴ ㅍㅏㄴㅅㅏ∅ㄴㅣㅁㄲㅔ∅ㄹㅏ∅ㄴㅡㄴ ㅂㅓㅂ ㅂㅓㅂ ㄱㅘㄴㄹㅕㄴ ㄷㅡ∅ㄹㅏ∅ㅁㅏ∅ ㅇㅏㄹㄱㅗ∅ ㅇㅣㅆㅇㅓ∅\n",
      "--------\n",
      "/data_hdd/stt/KsponSpeech_sample/KsponSpeech_000031.txt\n",
      "o/ 아/ 그건 절대로 안 할 거야.\n",
      " ㅇㅏ∅ ㄱㅡ∅ㄱㅓㄴ ㅈㅓㄹㄷㅐ∅ㄹㅗ∅ ㅇㅏㄴ ㅎㅏㄹ ㄱㅓ∅ㅇㅑ∅\n",
      "--------\n",
      "/data_hdd/stt/KsponSpeech_sample/KsponSpeech_000042.txt\n",
      "b/ 빨리 가야 돼.\n",
      " ㅃㅏㄹㄹㅣ∅ ㄱㅏ∅ㅇㅑ∅ ㄷㅙ∅\n",
      "--------\n",
      "/data_hdd/stt/KsponSpeech_sample/KsponSpeech_000010.txt\n",
      "아/ 내일 나 알바하구나.\n",
      "ㅇㅏ∅ ㄴㅐ∅ㅇㅣㄹ ㄴㅏ∅ ㅇㅏㄹㅂㅏ∅ㅎㅏ∅ㄱㅜ∅ㄴㅏ∅\n",
      "--------\n",
      "/data_hdd/stt/KsponSpeech_sample/KsponSpeech_000041.txt\n",
      "o/ 그래. 어차피 먹어야 되니까 인제 음/\n",
      " ㄱㅡ∅ㄹㅐ∅ ㅇㅓ∅ㅊㅏ∅ㅍㅣ∅ ㅁㅓㄱㅇㅓ∅ㅇㅑ∅ ㄷㅚ∅ㄴㅣ∅ㄲㅏ∅ ㅇㅣㄴㅈㅔ∅ ㅇㅡㅁ\n",
      "--------\n",
      "/data_hdd/stt/KsponSpeech_sample/KsponSpeech_000095.txt\n",
      "b/ 야 그만 웃으라고.\n",
      " ㅇㅑ∅ ㄱㅡ∅ㅁㅏㄴ ㅇㅜㅅㅇㅡ∅ㄹㅏ∅ㄱㅗ∅\n",
      "--------\n",
      "/data_hdd/stt/KsponSpeech_sample/KsponSpeech_000028.txt\n",
      "n/ 과학적 근거가 있는 팩튼지\n",
      " ㄱㅘ∅ㅎㅏㄱㅈㅓㄱ ㄱㅡㄴㄱㅓ∅ㄱㅏ∅ ㅇㅣㅆㄴㅡㄴ ㅍㅐㄱㅌㅡㄴㅈㅣ∅\n",
      "--------\n",
      "/data_hdd/stt/KsponSpeech_sample/KsponSpeech_000024.txt\n",
      "목포 너무 비싸, b/ 어, 시외버스도 비싸고, 한 (3만원)/(삼만 원)인가 그럴걸.\n",
      "ㅁㅗㄱㅍㅗ∅ ㄴㅓ∅ㅁㅜ∅ ㅂㅣ∅ㅆㅏ∅  ㅇㅓ∅ ㅅㅣ∅ㅇㅚ∅ㅂㅓ∅ㅅㅡ∅ㄷㅗ∅ ㅂㅣ∅ㅆㅏ∅ㄱㅗ∅ ㅎㅏㄴ ㅁㅏㄴㅇㅝㄴㅅㅏㅁㅁㅏㄴ ㅇㅝㄴㅇㅣㄴㄱㅏ∅ ㄱㅡ∅ㄹㅓㄹㄱㅓㄹ\n",
      "--------\n",
      "/data_hdd/stt/KsponSpeech_sample/KsponSpeech_000008.txt\n",
      "그래\n",
      "ㄱㅡ∅ㄹㅐ∅\n",
      "--------\n",
      "/data_hdd/stt/KsponSpeech_sample/KsponSpeech_000007.txt\n",
      "o/ 그래가지고 진짜 차 사야겠다 아니 뭐/ 차 안 되면 스쿠터라도 타야되겠다 막/ 그런 생각 들더라구 그래서 운전은 하는 게 좋은 거 같애 진짜 b/\n",
      " ㄱㅡ∅ㄹㅐ∅ㄱㅏ∅ㅈㅣ∅ㄱㅗ∅ ㅈㅣㄴㅉㅏ∅ ㅊㅏ∅ ㅅㅏ∅ㅇㅑ∅ㄱㅔㅆㄷㅏ∅ ㅇㅏ∅ㄴㅣ∅ ㅁㅝ∅ ㅊㅏ∅ ㅇㅏㄴ ㄷㅚ∅ㅁㅕㄴ ㅅㅡ∅ㅋㅜ∅ㅌㅓ∅ㄹㅏ∅ㄷㅗ∅ ㅌㅏ∅ㅇㅑ∅ㄷㅚ∅ㄱㅔㅆㄷㅏ∅ ㅁㅏㄱ ㄱㅡ∅ㄹㅓㄴ ㅅㅐㅇㄱㅏㄱ ㄷㅡㄹㄷㅓ∅ㄹㅏ∅ㄱㅜ∅ ㄱㅡ∅ㄹㅐ∅ㅅㅓ∅ ㅇㅜㄴㅈㅓㄴㅇㅡㄴ ㅎㅏ∅ㄴㅡㄴ ㄱㅔ∅ ㅈㅗㅎㅇㅡㄴ ㄱㅓ∅ ㄱㅏㅌㅇㅐ∅ ㅈㅣㄴㅉㅏ∅ \n",
      "--------\n",
      "/data_hdd/stt/KsponSpeech_sample/KsponSpeech_001000.txt\n",
      "(8분)/(팔 분) 타지 않았어?\n",
      "ㅂㅜㄴㅍㅏㄹ ㅂㅜㄴ ㅌㅏ∅ㅈㅣ∅ ㅇㅏㄶㅇㅏㅆㅇㅓ∅\n",
      "--------\n",
      "/data_hdd/stt/KsponSpeech_sample/KsponSpeech_000094.txt\n",
      "어. 바로+ 바로 이적했지.\n",
      "ㅇㅓ∅ ㅂㅏ∅ㄹㅗ∅ ㅂㅏ∅ㄹㅗ∅ ㅇㅣ∅ㅈㅓㄱㅎㅐㅆㅈㅣ∅\n",
      "--------\n",
      "/data_hdd/stt/KsponSpeech_sample/KsponSpeech_000056.txt\n",
      "얘는 바쁘구 나는 여유롭다고 여유로운 사람이 매달리고 어/ 나랑 놀자 이러고 그건 좀 자기 욕심이야. 진짜 자기만 생각하는 거야.\n",
      "ㅇㅒ∅ㄴㅡㄴ ㅂㅏ∅ㅃㅡ∅ㄱㅜ∅ ㄴㅏ∅ㄴㅡㄴ ㅇㅕ∅ㅇㅠ∅ㄹㅗㅂㄷㅏ∅ㄱㅗ∅ ㅇㅕ∅ㅇㅠ∅ㄹㅗ∅ㅇㅜㄴ ㅅㅏ∅ㄹㅏㅁㅇㅣ∅ ㅁㅐ∅ㄷㅏㄹㄹㅣ∅ㄱㅗ∅ ㅇㅓ∅ ㄴㅏ∅ㄹㅏㅇ ㄴㅗㄹㅈㅏ∅ ㅇㅣ∅ㄹㅓ∅ㄱㅗ∅ ㄱㅡ∅ㄱㅓㄴ ㅈㅗㅁ ㅈㅏ∅ㄱㅣ∅ ㅇㅛㄱㅅㅣㅁㅇㅣ∅ㅇㅑ∅ ㅈㅣㄴㅉㅏ∅ ㅈㅏ∅ㄱㅣ∅ㅁㅏㄴ ㅅㅐㅇㄱㅏㄱㅎㅏ∅ㄴㅡㄴ ㄱㅓ∅ㅇㅑ∅\n",
      "--------\n",
      "/data_hdd/stt/KsponSpeech_sample/KsponSpeech_000054.txt\n",
      "근데 진짜 잘해.\n",
      "ㄱㅡㄴㄷㅔ∅ ㅈㅣㄴㅉㅏ∅ ㅈㅏㄹㅎㅐ∅\n",
      "--------\n",
      "/data_hdd/stt/KsponSpeech_sample/KsponSpeech_000040.txt\n",
      "o/ b/ 대단하다 그런 생각, 난 생각 조차 못 하겠더라. 나는\n",
      "  ㄷㅐ∅ㄷㅏㄴㅎㅏ∅ㄷㅏ∅ ㄱㅡ∅ㄹㅓㄴ ㅅㅐㅇㄱㅏㄱ ㄴㅏㄴ ㅅㅐㅇㄱㅏㄱ ㅈㅗ∅ㅊㅏ∅ ㅁㅗㅅ ㅎㅏ∅ㄱㅔㅆㄷㅓ∅ㄹㅏ∅ ㄴㅏ∅ㄴㅡㄴ\n",
      "--------\n",
      "/data_hdd/stt/KsponSpeech_sample/KsponSpeech_000037.txt\n",
      "할머니가 아까 너가 말한 거 같은 복숭아 맛 그런 요플레 l/ 그걸로 해서 드셨던 거 같애.\n",
      "ㅎㅏㄹㅁㅓ∅ㄴㅣ∅ㄱㅏ∅ ㅇㅏ∅ㄲㅏ∅ ㄴㅓ∅ㄱㅏ∅ ㅁㅏㄹㅎㅏㄴ ㄱㅓ∅ ㄱㅏㅌㅇㅡㄴ ㅂㅗㄱㅅㅜㅇㅇㅏ∅ ㅁㅏㅅ ㄱㅡ∅ㄹㅓㄴ ㅇㅛ∅ㅍㅡㄹㄹㅔ∅  ㄱㅡ∅ㄱㅓㄹㄹㅗ∅ ㅎㅐ∅ㅅㅓ∅ ㄷㅡ∅ㅅㅕㅆㄷㅓㄴ ㄱㅓ∅ ㄱㅏㅌㅇㅐ∅\n",
      "--------\n",
      "/data_hdd/stt/KsponSpeech_sample/KsponSpeech_000082.txt\n",
      "아무튼 순우형.\n",
      "ㅇㅏ∅ㅁㅜ∅ㅌㅡㄴ ㅅㅜㄴㅇㅜ∅ㅎㅕㅇ\n",
      "--------\n",
      "/data_hdd/stt/KsponSpeech_sample/KsponSpeech_000043.txt\n",
      "헬스는 끝났어?\n",
      "ㅎㅔㄹㅅㅡ∅ㄴㅡㄴ ㄲㅡㅌㄴㅏㅆㅇㅓ∅\n",
      "--------\n",
      "/data_hdd/stt/KsponSpeech_sample/KsponSpeech_000055.txt\n",
      "n/ 웃기지 마. 니 l/ 니 제일 좋아했잖아. 내 썰 듣는 거.\n",
      " ㅇㅜㅅㄱㅣ∅ㅈㅣ∅ ㅁㅏ∅ ㄴㅣ∅  ㄴㅣ∅ ㅈㅔ∅ㅇㅣㄹ ㅈㅗㅎㅇㅏ∅ㅎㅐㅆㅈㅏㄶㅇㅏ∅ ㄴㅐ∅ ㅆㅓㄹ ㄷㅡㄷㄴㅡㄴ ㄱㅓ∅\n",
      "--------\n",
      "/data_hdd/stt/KsponSpeech_sample/KsponSpeech_000069.txt\n",
      "b/ 아니야 나, 내가 농구경기 직관 한 번 가봤는데, 밤에 했어.\n",
      " ㅇㅏ∅ㄴㅣ∅ㅇㅑ∅ ㄴㅏ∅ ㄴㅐ∅ㄱㅏ∅ ㄴㅗㅇㄱㅜ∅ㄱㅕㅇㄱㅣ∅ ㅈㅣㄱㄱㅘㄴ ㅎㅏㄴ ㅂㅓㄴ ㄱㅏ∅ㅂㅘㅆㄴㅡㄴㄷㅔ∅ ㅂㅏㅁㅇㅔ∅ ㅎㅐㅆㅇㅓ∅\n",
      "--------\n",
      "/data_hdd/stt/KsponSpeech_sample/KsponSpeech_000022.txt\n",
      "무한도전은 완전 폐지돼서 없어졌는데 너는 무한도전을 자주 잘 챙겨 봤어?\n",
      "ㅁㅜ∅ㅎㅏㄴㄷㅗ∅ㅈㅓㄴㅇㅡㄴ ㅇㅘㄴㅈㅓㄴ ㅍㅖ∅ㅈㅣ∅ㄷㅙ∅ㅅㅓ∅ ㅇㅓㅄㅇㅓ∅ㅈㅕㅆㄴㅡㄴㄷㅔ∅ ㄴㅓ∅ㄴㅡㄴ ㅁㅜ∅ㅎㅏㄴㄷㅗ∅ㅈㅓㄴㅇㅡㄹ ㅈㅏ∅ㅈㅜ∅ ㅈㅏㄹ ㅊㅐㅇㄱㅕ∅ ㅂㅘㅆㅇㅓ∅\n",
      "--------\n",
      "/data_hdd/stt/KsponSpeech_sample/KsponSpeech_000046.txt\n",
      "전문가용인데, 그/ 막 음너+ 음원 녹음하고 그런 거 올리는 b/ 그런 아이딘가 봐 나 근데 나 잘 모르겠어.\n",
      "ㅈㅓㄴㅁㅜㄴㄱㅏ∅ㅇㅛㅇㅇㅣㄴㄷㅔ∅ ㄱㅡ∅ ㅁㅏㄱ ㅇㅡㅁㄴㅓ∅ ㅇㅡㅁㅇㅝㄴ ㄴㅗㄱㅇㅡㅁㅎㅏ∅ㄱㅗ∅ ㄱㅡ∅ㄹㅓㄴ ㄱㅓ∅ ㅇㅗㄹㄹㅣ∅ㄴㅡㄴ  ㄱㅡ∅ㄹㅓㄴ ㅇㅏ∅ㅇㅣ∅ㄷㅣㄴㄱㅏ∅ ㅂㅘ∅ ㄴㅏ∅ ㄱㅡㄴㄷㅔ∅ ㄴㅏ∅ ㅈㅏㄹ ㅁㅗ∅ㄹㅡ∅ㄱㅔㅆㅇㅓ∅\n",
      "--------\n",
      "/data_hdd/stt/KsponSpeech_sample/KsponSpeech_000014.txt\n",
      "한+ 한+ 한 시간에 이 만 원? 거의 이 정도로 이 정도란 말이야. b/\n",
      "ㅎㅏㄴ ㅎㅏㄴ ㅎㅏㄴ ㅅㅣ∅ㄱㅏㄴㅇㅔ∅ ㅇㅣ∅ ㅁㅏㄴ ㅇㅝㄴ ㄱㅓ∅ㅇㅢ∅ ㅇㅣ∅ ㅈㅓㅇㄷㅗ∅ㄹㅗ∅ ㅇㅣ∅ ㅈㅓㅇㄷㅗ∅ㄹㅏㄴ ㅁㅏㄹㅇㅣ∅ㅇㅑ∅ \n",
      "--------\n",
      "/data_hdd/stt/KsponSpeech_sample/KsponSpeech_000091.txt\n",
      "n/ 금방 가. 네 시까지. n/\n",
      " ㄱㅡㅁㅂㅏㅇ ㄱㅏ∅ ㄴㅔ∅ ㅅㅣ∅ㄲㅏ∅ㅈㅣ∅ \n",
      "--------\n",
      "/data_hdd/stt/KsponSpeech_sample/KsponSpeech_000051.txt\n",
      "투표를 뭐/ 자주 할지언정\n",
      "ㅌㅜ∅ㅍㅛ∅ㄹㅡㄹ ㅁㅝ∅ ㅈㅏ∅ㅈㅜ∅ ㅎㅏㄹㅈㅣ∅ㅇㅓㄴㅈㅓㅇ\n",
      "--------\n",
      "/data_hdd/stt/KsponSpeech_sample/KsponSpeech_000036.txt\n",
      "글쎄.\n",
      "ㄱㅡㄹㅆㅔ∅\n",
      "--------\n",
      "/data_hdd/stt/KsponSpeech_sample/KsponSpeech_000029.txt\n",
      "알겠어.\n",
      "ㅇㅏㄹㄱㅔㅆㅇㅓ∅\n",
      "--------\n",
      "/data_hdd/stt/KsponSpeech_sample/KsponSpeech_000060.txt\n",
      "빨리 일정이 나오면 그래도 어느 정돈 하는데.\n",
      "ㅃㅏㄹㄹㅣ∅ ㅇㅣㄹㅈㅓㅇㅇㅣ∅ ㄴㅏ∅ㅇㅗ∅ㅁㅕㄴ ㄱㅡ∅ㄹㅐ∅ㄷㅗ∅ ㅇㅓ∅ㄴㅡ∅ ㅈㅓㅇㄷㅗㄴ ㅎㅏ∅ㄴㅡㄴㄷㅔ∅\n",
      "--------\n",
      "/data_hdd/stt/KsponSpeech_sample/KsponSpeech_000096.txt\n",
      "o/ 근데 우리 신랑이 그런 데만 가면 b/ 그/ 투어버스를 너무 좋아해.\n",
      " ㄱㅡㄴㄷㅔ∅ ㅇㅜ∅ㄹㅣ∅ ㅅㅣㄴㄹㅏㅇㅇㅣ∅ ㄱㅡ∅ㄹㅓㄴ ㄷㅔ∅ㅁㅏㄴ ㄱㅏ∅ㅁㅕㄴ  ㄱㅡ∅ ㅌㅜ∅ㅇㅓ∅ㅂㅓ∅ㅅㅡ∅ㄹㅡㄹ ㄴㅓ∅ㅁㅜ∅ ㅈㅗㅎㅇㅏ∅ㅎㅐ∅\n",
      "--------\n",
      "/data_hdd/stt/KsponSpeech_sample/KsponSpeech_000021.txt\n",
      "왜 b/\n",
      "ㅇㅙ∅ \n",
      "--------\n",
      "/data_hdd/stt/KsponSpeech_sample/KsponSpeech_000005.txt\n",
      "o/ b/ 그게 (0.1프로)/(영 점 일 프로) 가정의 아이들과 가정의 모습이야? b/\n",
      "  ㄱㅡ∅ㄱㅔ∅ ㅍㅡ∅ㄹㅗ∅ㅇㅕㅇ ㅈㅓㅁ ㅇㅣㄹ ㅍㅡ∅ㄹㅗ∅ ㄱㅏ∅ㅈㅓㅇㅇㅢ∅ ㅇㅏ∅ㅇㅣ∅ㄷㅡㄹㄱㅘ∅ ㄱㅏ∅ㅈㅓㅇㅇㅢ∅ ㅁㅗ∅ㅅㅡㅂㅇㅣ∅ㅇㅑ∅ \n",
      "--------\n",
      "/data_hdd/stt/KsponSpeech_sample/KsponSpeech_000061.txt\n",
      "당연하지. 우리 아파트 살잖아.\n",
      "ㄷㅏㅇㅇㅕㄴㅎㅏ∅ㅈㅣ∅ ㅇㅜ∅ㄹㅣ∅ ㅇㅏ∅ㅍㅏ∅ㅌㅡ∅ ㅅㅏㄹㅈㅏㄶㅇㅏ∅\n",
      "--------\n",
      "/data_hdd/stt/KsponSpeech_sample/KsponSpeech_000038.txt\n",
      "o/ b/ 네+ 네. b/\n",
      "  ㄴㅔ∅ ㄴㅔ∅ \n",
      "--------\n",
      "/data_hdd/stt/KsponSpeech_sample/KsponSpeech_000068.txt\n",
      "o/ 응. b/ 그래+ 아/ 까 b/ 아마 좀 있으면 괜찮아질 거야 이랬거든. 근데 지금 한지 좀 지났는데 아직도 눈이 시리대. 그래서* 병원에 가서 얘길 했더니 b/ 난시가 너무 심한 눈이어서 이게 꽤 오래갈 수도 있다는 거야. b/\n",
      " ㅇㅡㅇ  ㄱㅡ∅ㄹㅐ∅ ㅇㅏ∅ ㄲㅏ∅  ㅇㅏ∅ㅁㅏ∅ ㅈㅗㅁ ㅇㅣㅆㅇㅡ∅ㅁㅕㄴ ㄱㅙㄴㅊㅏㄶㅇㅏ∅ㅈㅣㄹ ㄱㅓ∅ㅇㅑ∅ ㅇㅣ∅ㄹㅐㅆㄱㅓ∅ㄷㅡㄴ ㄱㅡㄴㄷㅔ∅ ㅈㅣ∅ㄱㅡㅁ ㅎㅏㄴㅈㅣ∅ ㅈㅗㅁ ㅈㅣ∅ㄴㅏㅆㄴㅡㄴㄷㅔ∅ ㅇㅏ∅ㅈㅣㄱㄷㅗ∅ ㄴㅜㄴㅇㅣ∅ ㅅㅣ∅ㄹㅣ∅ㄷㅐ∅ ㄱㅡ∅ㄹㅐ∅ㅅㅓ∅ ㅂㅕㅇㅇㅝㄴㅇㅔ∅ ㄱㅏ∅ㅅㅓ∅ ㅇㅒ∅ㄱㅣㄹ ㅎㅐㅆㄷㅓ∅ㄴㅣ∅  ㄴㅏㄴㅅㅣ∅ㄱㅏ∅ ㄴㅓ∅ㅁㅜ∅ ㅅㅣㅁㅎㅏㄴ ㄴㅜㄴㅇㅣ∅ㅇㅓ∅ㅅㅓ∅ ㅇㅣ∅ㄱㅔ∅ ㄲㅙ∅ ㅇㅗ∅ㄹㅐ∅ㄱㅏㄹ ㅅㅜ∅ㄷㅗ∅ ㅇㅣㅆㄷㅏ∅ㄴㅡㄴ ㄱㅓ∅ㅇㅑ∅ \n",
      "--------\n",
      "/data_hdd/stt/KsponSpeech_sample/KsponSpeech_000064.txt\n",
      "어 막 트라이팟이 이런 거 좀 그렇게 보이잖아. 어.\n",
      "ㅇㅓ∅ ㅁㅏㄱ ㅌㅡ∅ㄹㅏ∅ㅇㅣ∅ㅍㅏㅅㅇㅣ∅ ㅇㅣ∅ㄹㅓㄴ ㄱㅓ∅ ㅈㅗㅁ ㄱㅡ∅ㄹㅓㅎㄱㅔ∅ ㅂㅗ∅ㅇㅣ∅ㅈㅏㄶㅇㅏ∅ ㅇㅓ∅\n",
      "--------\n",
      "/data_hdd/stt/KsponSpeech_sample/KsponSpeech_000012.txt\n",
      "맞아. 시간 안에 풀고 약간 이것부터 풀고 요런 식으로 풀어보렴. 이런 거 b/\n",
      "ㅁㅏㅈㅇㅏ∅ ㅅㅣ∅ㄱㅏㄴ ㅇㅏㄴㅇㅔ∅ ㅍㅜㄹㄱㅗ∅ ㅇㅑㄱㄱㅏㄴ ㅇㅣ∅ㄱㅓㅅㅂㅜ∅ㅌㅓ∅ ㅍㅜㄹㄱㅗ∅ ㅇㅛ∅ㄹㅓㄴ ㅅㅣㄱㅇㅡ∅ㄹㅗ∅ ㅍㅜㄹㅇㅓ∅ㅂㅗ∅ㄹㅕㅁ ㅇㅣ∅ㄹㅓㄴ ㄱㅓ∅ \n",
      "--------\n",
      "/data_hdd/stt/KsponSpeech_sample/KsponSpeech_000003.txt\n",
      "b/ n/ 그래서 지호랑 계단 n/ 올라와서 b/ 막 위에 운동하는 기구 있대요. b/ 그서 그걸로 운동 할려구요. b/ n/\n",
      "  ㄱㅡ∅ㄹㅐ∅ㅅㅓ∅ ㅈㅣ∅ㅎㅗ∅ㄹㅏㅇ ㄱㅖ∅ㄷㅏㄴ  ㅇㅗㄹㄹㅏ∅ㅇㅘ∅ㅅㅓ∅  ㅁㅏㄱ ㅇㅟ∅ㅇㅔ∅ ㅇㅜㄴㄷㅗㅇㅎㅏ∅ㄴㅡㄴ ㄱㅣ∅ㄱㅜ∅ ㅇㅣㅆㄷㅐ∅ㅇㅛ∅  ㄱㅡ∅ㅅㅓ∅ ㄱㅡ∅ㄱㅓㄹㄹㅗ∅ ㅇㅜㄴㄷㅗㅇ ㅎㅏㄹㄹㅕ∅ㄱㅜ∅ㅇㅛ∅  \n",
      "--------\n",
      "/data_hdd/stt/KsponSpeech_sample/KsponSpeech_000018.txt\n",
      "o/ l/ 해? 아/ 뭔가 효과가 있어 근데?\n",
      "  ㅎㅐ∅ ㅇㅏ∅ ㅁㅝㄴㄱㅏ∅ ㅎㅛ∅ㄱㅘ∅ㄱㅏ∅ ㅇㅣㅆㅇㅓ∅ ㄱㅡㄴㄷㅔ∅\n",
      "--------\n",
      "/data_hdd/stt/KsponSpeech_sample/KsponSpeech_000078.txt\n",
      "o/ 경영학관데, 연대 경제 뚫었어, 편입으로. 나 진짜* 그래서, b/ 에타 학게가* 있었어. 탈홍합니다. b/\n",
      " ㄱㅕㅇㅇㅕㅇㅎㅏㄱㄱㅘㄴㄷㅔ∅ ㅇㅕㄴㄷㅐ∅ ㄱㅕㅇㅈㅔ∅ ㄸㅜㅀㅇㅓㅆㅇㅓ∅ ㅍㅕㄴㅇㅣㅂㅇㅡ∅ㄹㅗ∅ ㄴㅏ∅ ㅈㅣㄴㅉㅏ∅ ㄱㅡ∅ㄹㅐ∅ㅅㅓ∅  ㅇㅔ∅ㅌㅏ∅ ㅎㅏㄱㄱㅔ∅ㄱㅏ∅ ㅇㅣㅆㅇㅓㅆㅇㅓ∅ ㅌㅏㄹㅎㅗㅇㅎㅏㅂㄴㅣ∅ㄷㅏ∅ \n",
      "--------\n",
      "/data_hdd/stt/KsponSpeech_sample/KsponSpeech_000032.txt\n",
      "그렇긴 했는데\n",
      "ㄱㅡ∅ㄹㅓㅎㄱㅣㄴ ㅎㅐㅆㄴㅡㄴㄷㅔ∅\n",
      "--------\n",
      "/data_hdd/stt/KsponSpeech_sample/KsponSpeech_000025.txt\n",
      "근데 왜 그 집을 기억을 못 해?\n",
      "ㄱㅡㄴㄷㅔ∅ ㅇㅙ∅ ㄱㅡ∅ ㅈㅣㅂㅇㅡㄹ ㄱㅣ∅ㅇㅓㄱㅇㅡㄹ ㅁㅗㅅ ㅎㅐ∅\n",
      "--------\n",
      "/data_hdd/stt/KsponSpeech_sample/KsponSpeech_000027.txt\n",
      "o/ 아/ 니가 사주는 거였어?\n",
      " ㅇㅏ∅ ㄴㅣ∅ㄱㅏ∅ ㅅㅏ∅ㅈㅜ∅ㄴㅡㄴ ㄱㅓ∅ㅇㅕㅆㅇㅓ∅\n",
      "--------\n",
      "/data_hdd/stt/KsponSpeech_sample/KsponSpeech_000097.txt\n",
      "예전에는 B 언어였는데. 지금은 C 데, C언어부터 기반을 다져서 게임은 C샾 이라는 걸 써.\n",
      "ㅇㅖ∅ㅈㅓㄴㅇㅔ∅ㄴㅡㄴ  ㅇㅓㄴㅇㅓ∅ㅇㅕㅆㄴㅡㄴㄷㅔ∅ ㅈㅣ∅ㄱㅡㅁㅇㅡㄴ  ㄷㅔ∅ ㅇㅓㄴㅇㅓ∅ㅂㅜ∅ㅌㅓ∅ ㄱㅣ∅ㅂㅏㄴㅇㅡㄹ ㄷㅏ∅ㅈㅕ∅ㅅㅓ∅ ㄱㅔ∅ㅇㅣㅁㅇㅡㄴ ㅅㅑㅍ ㅇㅣ∅ㄹㅏ∅ㄴㅡㄴ ㄱㅓㄹ ㅆㅓ∅\n",
      "--------\n",
      "/data_hdd/stt/KsponSpeech_sample/KsponSpeech_000016.txt\n",
      "아/ 근데 강남 너무 비싸.\n",
      "ㅇㅏ∅ ㄱㅡㄴㄷㅔ∅ ㄱㅏㅇㄴㅏㅁ ㄴㅓ∅ㅁㅜ∅ ㅂㅣ∅ㅆㅏ∅\n",
      "--------\n",
      "/data_hdd/stt/KsponSpeech_sample/KsponSpeech_000083.txt\n",
      "그래 지금 많이 시도 엄마한테 그/ 어머니한테 그때 전화해 가지고 b/\n",
      "ㄱㅡ∅ㄹㅐ∅ ㅈㅣ∅ㄱㅡㅁ ㅁㅏㄶㅇㅣ∅ ㅅㅣ∅ㄷㅗ∅ ㅇㅓㅁㅁㅏ∅ㅎㅏㄴㅌㅔ∅ ㄱㅡ∅ ㅇㅓ∅ㅁㅓ∅ㄴㅣ∅ㅎㅏㄴㅌㅔ∅ ㄱㅡ∅ㄸㅐ∅ ㅈㅓㄴㅎㅘ∅ㅎㅐ∅ ㄱㅏ∅ㅈㅣ∅ㄱㅗ∅ \n",
      "--------\n",
      "/data_hdd/stt/KsponSpeech_sample/KsponSpeech_000050.txt\n",
      "b/ 뭐 생각해 논 거 있어? b/\n",
      " ㅁㅝ∅ ㅅㅐㅇㄱㅏㄱㅎㅐ∅ ㄴㅗㄴ ㄱㅓ∅ ㅇㅣㅆㅇㅓ∅ \n",
      "--------\n",
      "/data_hdd/stt/KsponSpeech_sample/KsponSpeech_000044.txt\n",
      "아니야 좀 심했어, 진짜.\n",
      "ㅇㅏ∅ㄴㅣ∅ㅇㅑ∅ ㅈㅗㅁ ㅅㅣㅁㅎㅐㅆㅇㅓ∅ ㅈㅣㄴㅉㅏ∅\n",
      "--------\n",
      "/data_hdd/stt/KsponSpeech_sample/KsponSpeech_000048.txt\n",
      "재수를 마치고 지금은 알바를 찾고 있는 거 같아.\n",
      "ㅈㅐ∅ㅅㅜ∅ㄹㅡㄹ ㅁㅏ∅ㅊㅣ∅ㄱㅗ∅ ㅈㅣ∅ㄱㅡㅁㅇㅡㄴ ㅇㅏㄹㅂㅏ∅ㄹㅡㄹ ㅊㅏㅈㄱㅗ∅ ㅇㅣㅆㄴㅡㄴ ㄱㅓ∅ ㄱㅏㅌㅇㅏ∅\n",
      "--------\n",
      "/data_hdd/stt/KsponSpeech_sample/KsponSpeech_000070.txt\n",
      "o/ 근데 대+ 댓글 보니까. 땅콩 드리겠지. 뭐. 이러던데? 어/ 대한 항공. b/\n",
      " ㄱㅡㄴㄷㅔ∅ ㄷㅐ∅ ㄷㅐㅅㄱㅡㄹ ㅂㅗ∅ㄴㅣ∅ㄲㅏ∅ ㄸㅏㅇㅋㅗㅇ ㄷㅡ∅ㄹㅣ∅ㄱㅔㅆㅈㅣ∅ ㅁㅝ∅ ㅇㅣ∅ㄹㅓ∅ㄷㅓㄴㄷㅔ∅ ㅇㅓ∅ ㄷㅐ∅ㅎㅏㄴ ㅎㅏㅇㄱㅗㅇ \n",
      "--------\n",
      "/data_hdd/stt/KsponSpeech_sample/KsponSpeech_000074.txt\n",
      "o/ 잠만 기달려봐, 지금. (11시)/(열 한 시). 어차피 니 (11시)/(열 한 시) (20분)/(이십 분)까지 도착해야 되는 거지?\n",
      " ㅈㅏㅁㅁㅏㄴ ㄱㅣ∅ㄷㅏㄹㄹㅕ∅ㅂㅘ∅ ㅈㅣ∅ㄱㅡㅁ ㅅㅣ∅ㅇㅕㄹ ㅎㅏㄴ ㅅㅣ∅ ㅇㅓ∅ㅊㅏ∅ㅍㅣ∅ ㄴㅣ∅ ㅅㅣ∅ㅇㅕㄹ ㅎㅏㄴ ㅅㅣ∅ ㅂㅜㄴㅇㅣ∅ㅅㅣㅂ ㅂㅜㄴㄲㅏ∅ㅈㅣ∅ ㄷㅗ∅ㅊㅏㄱㅎㅐ∅ㅇㅑ∅ ㄷㅚ∅ㄴㅡㄴ ㄱㅓ∅ㅈㅣ∅\n",
      "--------\n",
      "/data_hdd/stt/KsponSpeech_sample/KsponSpeech_000026.txt\n",
      "복싱 안 배워봤어?\n",
      "ㅂㅗㄱㅅㅣㅇ ㅇㅏㄴ ㅂㅐ∅ㅇㅝ∅ㅂㅘㅆㅇㅓ∅\n",
      "--------\n",
      "/data_hdd/stt/KsponSpeech_sample/KsponSpeech_000086.txt\n",
      "n/ 재수할 때 많이 와봤지. 여기는.\n",
      " ㅈㅐ∅ㅅㅜ∅ㅎㅏㄹ ㄸㅐ∅ ㅁㅏㄶㅇㅣ∅ ㅇㅘ∅ㅂㅘㅆㅈㅣ∅ ㅇㅕ∅ㄱㅣ∅ㄴㅡㄴ\n",
      "--------\n",
      "/data_hdd/stt/KsponSpeech_sample/KsponSpeech_000053.txt\n",
      "l/ b/ 그거 찍을 생각을 못 했어.\n",
      "  ㄱㅡ∅ㄱㅓ∅ ㅉㅣㄱㅇㅡㄹ ㅅㅐㅇㄱㅏㄱㅇㅡㄹ ㅁㅗㅅ ㅎㅐㅆㅇㅓ∅\n",
      "--------\n",
      "/data_hdd/stt/KsponSpeech_sample/KsponSpeech_000071.txt\n",
      "야 아직 어리네.\n",
      "ㅇㅑ∅ ㅇㅏ∅ㅈㅣㄱ ㅇㅓ∅ㄹㅣ∅ㄴㅔ∅\n",
      "--------\n",
      "/data_hdd/stt/KsponSpeech_sample/KsponSpeech_000047.txt\n",
      "o/ 왜 자랐냐고?\n",
      " ㅇㅙ∅ ㅈㅏ∅ㄹㅏㅆㄴㅑ∅ㄱㅗ∅\n",
      "--------\n",
      "/data_hdd/stt/KsponSpeech_sample/KsponSpeech_000015.txt\n",
      "굳이 싶기도 해. 까* 오히려 사원 이런 것보다는 b/ 대신 돔* 먹+ 먹, 음식 거리, 먹거리가 우리 입맛에 좀 더 맞는 거 같고.\n",
      "ㄱㅜㄷㅇㅣ∅ ㅅㅣㅍㄱㅣ∅ㄷㅗ∅ ㅎㅐ∅ ㄲㅏ∅ ㅇㅗ∅ㅎㅣ∅ㄹㅕ∅ ㅅㅏ∅ㅇㅝㄴ ㅇㅣ∅ㄹㅓㄴ ㄱㅓㅅㅂㅗ∅ㄷㅏ∅ㄴㅡㄴ  ㄷㅐ∅ㅅㅣㄴ ㄷㅗㅁ ㅁㅓㄱ ㅁㅓㄱ ㅇㅡㅁㅅㅣㄱ ㄱㅓ∅ㄹㅣ∅ ㅁㅓㄱㄱㅓ∅ㄹㅣ∅ㄱㅏ∅ ㅇㅜ∅ㄹㅣ∅ ㅇㅣㅂㅁㅏㅅㅇㅔ∅ ㅈㅗㅁ ㄷㅓ∅ ㅁㅏㅈㄴㅡㄴ ㄱㅓ∅ ㄱㅏㅌㄱㅗ∅\n",
      "--------\n",
      "/data_hdd/stt/KsponSpeech_sample/KsponSpeech_000084.txt\n",
      "나 그걸로 요즘 미생 봐. 아/ 나 요즘 미생 봐, 미생. 어.\n",
      "ㄴㅏ∅ ㄱㅡ∅ㄱㅓㄹㄹㅗ∅ ㅇㅛ∅ㅈㅡㅁ ㅁㅣ∅ㅅㅐㅇ ㅂㅘ∅ ㅇㅏ∅ ㄴㅏ∅ ㅇㅛ∅ㅈㅡㅁ ㅁㅣ∅ㅅㅐㅇ ㅂㅘ∅ ㅁㅣ∅ㅅㅐㅇ ㅇㅓ∅\n",
      "--------\n",
      "/data_hdd/stt/KsponSpeech_sample/KsponSpeech_000009.txt\n",
      "o/ 나도 몰라. 나 그/ (3G)/(쓰리 쥐)* 하나도 안 봤음. 어.\n",
      " ㄴㅏ∅ㄷㅗ∅ ㅁㅗㄹㄹㅏ∅ ㄴㅏ∅ ㄱㅡ∅ ㅆㅡ∅ㄹㅣ∅ ㅈㅟ∅ ㅎㅏ∅ㄴㅏ∅ㄷㅗ∅ ㅇㅏㄴ ㅂㅘㅆㅇㅡㅁ ㅇㅓ∅\n",
      "--------\n",
      "/data_hdd/stt/KsponSpeech_sample/KsponSpeech_000052.txt\n",
      "o/ 아이/ 말해봐.\n",
      " ㅇㅏ∅ㅇㅣ∅ ㅁㅏㄹㅎㅐ∅ㅂㅘ∅\n",
      "--------\n",
      "/data_hdd/stt/KsponSpeech_sample/KsponSpeech_000062.txt\n",
      "아이/ 딱히 효과 없어가지고 안에서 바를 때도.\n",
      "ㅇㅏ∅ㅇㅣ∅ ㄸㅏㄱㅎㅣ∅ ㅎㅛ∅ㄱㅘ∅ ㅇㅓㅄㅇㅓ∅ㄱㅏ∅ㅈㅣ∅ㄱㅗ∅ ㅇㅏㄴㅇㅔ∅ㅅㅓ∅ ㅂㅏ∅ㄹㅡㄹ ㄸㅐ∅ㄷㅗ∅\n",
      "--------\n",
      "/data_hdd/stt/KsponSpeech_sample/KsponSpeech_000075.txt\n",
      "아/ 그래서 팔팔이 (1컷)/(일 컷)이 나왔구나. 우리 아이/ 내가 보통 비킬러 풀면은 이/ 비킬러 세무 그에가 킬러 세 문제 빼면은 스물 일곱 문제잖아? 내 스물 일곱 문제 푸는 나는 보통 한 (2)/(이), (30분)/(삼십 분) 걸리고 거기다 (10)/(십 분)?\n",
      "ㅇㅏ∅ ㄱㅡ∅ㄹㅐ∅ㅅㅓ∅ ㅍㅏㄹㅍㅏㄹㅇㅣ∅ ㅋㅓㅅㅇㅣㄹ ㅋㅓㅅㅇㅣ∅ ㄴㅏ∅ㅇㅘㅆㄱㅜ∅ㄴㅏ∅ ㅇㅜ∅ㄹㅣ∅ ㅇㅏ∅ㅇㅣ∅ ㄴㅐ∅ㄱㅏ∅ ㅂㅗ∅ㅌㅗㅇ ㅂㅣ∅ㅋㅣㄹㄹㅓ∅ ㅍㅜㄹㅁㅕㄴㅇㅡㄴ ㅇㅣ∅ ㅂㅣ∅ㅋㅣㄹㄹㅓ∅ ㅅㅔ∅ㅁㅜ∅ ㄱㅡ∅ㅇㅔ∅ㄱㅏ∅ ㅋㅣㄹㄹㅓ∅ ㅅㅔ∅ ㅁㅜㄴㅈㅔ∅ ㅃㅐ∅ㅁㅕㄴㅇㅡㄴ ㅅㅡ∅ㅁㅜㄹ ㅇㅣㄹㄱㅗㅂ ㅁㅜㄴㅈㅔ∅ㅈㅏㄶㅇㅏ∅ ㄴㅐ∅ ㅅㅡ∅ㅁㅜㄹ ㅇㅣㄹㄱㅗㅂ ㅁㅜㄴㅈㅔ∅ ㅍㅜ∅ㄴㅡㄴ ㄴㅏ∅ㄴㅡㄴ ㅂㅗ∅ㅌㅗㅇ ㅎㅏㄴ ㅇㅣ∅ ㅂㅜㄴㅅㅏㅁㅅㅣㅂ ㅂㅜㄴ ㄱㅓㄹㄹㅣ∅ㄱㅗ∅ ㄱㅓ∅ㄱㅣ∅ㄷㅏ∅ ㅅㅣㅂ ㅂㅜㄴ\n",
      "--------\n",
      "/data_hdd/stt/KsponSpeech_sample/KsponSpeech_000073.txt\n",
      "o/ b/ 아무 신경을 안 썼거든? 수사에서 더 한 것도 해 봤잖아. b/\n",
      "  ㅇㅏ∅ㅁㅜ∅ ㅅㅣㄴㄱㅕㅇㅇㅡㄹ ㅇㅏㄴ ㅆㅓㅆㄱㅓ∅ㄷㅡㄴ ㅅㅜ∅ㅅㅏ∅ㅇㅔ∅ㅅㅓ∅ ㄷㅓ∅ ㅎㅏㄴ ㄱㅓㅅㄷㅗ∅ ㅎㅐ∅ ㅂㅘㅆㅈㅏㄶㅇㅏ∅ \n",
      "--------\n",
      "/data_hdd/stt/KsponSpeech_sample/KsponSpeech_000098.txt\n",
      "n/ 월남쌈 안 먹은 지 오래됐는데. b/\n",
      " ㅇㅝㄹㄴㅏㅁㅆㅏㅁ ㅇㅏㄴ ㅁㅓㄱㅇㅡㄴ ㅈㅣ∅ ㅇㅗ∅ㄹㅐ∅ㄷㅙㅆㄴㅡㄴㄷㅔ∅ \n",
      "--------\n",
      "/data_hdd/stt/KsponSpeech_sample/KsponSpeech_000092.txt\n",
      "그 외에는 또 뭐 다른 게, 만들어 먹던 그런 건 없었어?\n",
      "ㄱㅡ∅ ㅇㅚ∅ㅇㅔ∅ㄴㅡㄴ ㄸㅗ∅ ㅁㅝ∅ ㄷㅏ∅ㄹㅡㄴ ㄱㅔ∅ ㅁㅏㄴㄷㅡㄹㅇㅓ∅ ㅁㅓㄱㄷㅓㄴ ㄱㅡ∅ㄹㅓㄴ ㄱㅓㄴ ㅇㅓㅄㅇㅓㅆㅇㅓ∅\n",
      "--------\n",
      "/data_hdd/stt/KsponSpeech_sample/KsponSpeech_000065.txt\n",
      "o/ 어 그러지 말라 그래 나 진짜 근데 이번에 또 오면 진짜 차단할 거야.\n",
      " ㅇㅓ∅ ㄱㅡ∅ㄹㅓ∅ㅈㅣ∅ ㅁㅏㄹㄹㅏ∅ ㄱㅡ∅ㄹㅐ∅ ㄴㅏ∅ ㅈㅣㄴㅉㅏ∅ ㄱㅡㄴㄷㅔ∅ ㅇㅣ∅ㅂㅓㄴㅇㅔ∅ ㄸㅗ∅ ㅇㅗ∅ㅁㅕㄴ ㅈㅣㄴㅉㅏ∅ ㅊㅏ∅ㄷㅏㄴㅎㅏㄹ ㄱㅓ∅ㅇㅑ∅\n",
      "--------\n",
      "/data_hdd/stt/KsponSpeech_sample/KsponSpeech_000058.txt\n",
      "맞아. 나도 (2015년)/(이천 십 오 년)에 프로필 찍었을 때 b/ 정말 나 혼자 가고 처음 찍는 건데 아예 생판 모르는 포토그래퍼한테 찍어가지고 b/ 어/ 괜찮긴 한데 너무 사진들을 지금 보면 얼굴에 어색함이 b/ 많아가지고 어따 쓸 수도 없고 b/ 컨셉 회의 같은 걸 안 했었어. 근데 나는 그런 걸 원래 하는지 몰랐어.\n",
      "ㅁㅏㅈㅇㅏ∅ ㄴㅏ∅ㄷㅗ∅ ㄴㅕㄴㅇㅣ∅ㅊㅓㄴ ㅅㅣㅂ ㅇㅗ∅ ㄴㅕㄴㅇㅔ∅ ㅍㅡ∅ㄹㅗ∅ㅍㅣㄹ ㅉㅣㄱㅇㅓㅆㅇㅡㄹ ㄸㅐ∅  ㅈㅓㅇㅁㅏㄹ ㄴㅏ∅ ㅎㅗㄴㅈㅏ∅ ㄱㅏ∅ㄱㅗ∅ ㅊㅓ∅ㅇㅡㅁ ㅉㅣㄱㄴㅡㄴ ㄱㅓㄴㄷㅔ∅ ㅇㅏ∅ㅇㅖ∅ ㅅㅐㅇㅍㅏㄴ ㅁㅗ∅ㄹㅡ∅ㄴㅡㄴ ㅍㅗ∅ㅌㅗ∅ㄱㅡ∅ㄹㅐ∅ㅍㅓ∅ㅎㅏㄴㅌㅔ∅ ㅉㅣㄱㅇㅓ∅ㄱㅏ∅ㅈㅣ∅ㄱㅗ∅  ㅇㅓ∅ ㄱㅙㄴㅊㅏㄶㄱㅣㄴ ㅎㅏㄴㄷㅔ∅ ㄴㅓ∅ㅁㅜ∅ ㅅㅏ∅ㅈㅣㄴㄷㅡㄹㅇㅡㄹ ㅈㅣ∅ㄱㅡㅁ ㅂㅗ∅ㅁㅕㄴ ㅇㅓㄹㄱㅜㄹㅇㅔ∅ ㅇㅓ∅ㅅㅐㄱㅎㅏㅁㅇㅣ∅  ㅁㅏㄶㅇㅏ∅ㄱㅏ∅ㅈㅣ∅ㄱㅗ∅ ㅇㅓ∅ㄸㅏ∅ ㅆㅡㄹ ㅅㅜ∅ㄷㅗ∅ ㅇㅓㅄㄱㅗ∅  ㅋㅓㄴㅅㅔㅂ ㅎㅚ∅ㅇㅢ∅ ㄱㅏㅌㅇㅡㄴ ㄱㅓㄹ ㅇㅏㄴ ㅎㅐㅆㅇㅓㅆㅇㅓ∅ ㄱㅡㄴㄷㅔ∅ ㄴㅏ∅ㄴㅡㄴ ㄱㅡ∅ㄹㅓㄴ ㄱㅓㄹ ㅇㅝㄴㄹㅐ∅ ㅎㅏ∅ㄴㅡㄴㅈㅣ∅ ㅁㅗㄹㄹㅏㅆㅇㅓ∅\n",
      "--------\n",
      "/data_hdd/stt/KsponSpeech_sample/KsponSpeech_000090.txt\n",
      "애들 막/ 못 막잖아.\n",
      "ㅇㅐ∅ㄷㅡㄹ ㅁㅏㄱ ㅁㅗㅅ ㅁㅏㄱㅈㅏㄶㅇㅏ∅\n",
      "--------\n",
      "/data_hdd/stt/KsponSpeech_sample/KsponSpeech_000017.txt\n",
      "나, 먼저 집에 가께\n",
      "ㄴㅏ∅ ㅁㅓㄴㅈㅓ∅ ㅈㅣㅂㅇㅔ∅ ㄱㅏ∅ㄲㅔ∅\n",
      "--------\n",
      "/data_hdd/stt/KsponSpeech_sample/KsponSpeech_000080.txt\n",
      "근데 저 명지대 다니는데 학교 주변에 막 이대, 연대, 홍대, 서강대 이렇잖아요. 그래서 그런 애들 엄청 무시하더라고요.\n",
      "ㄱㅡㄴㄷㅔ∅ ㅈㅓ∅ ㅁㅕㅇㅈㅣ∅ㄷㅐ∅ ㄷㅏ∅ㄴㅣ∅ㄴㅡㄴㄷㅔ∅ ㅎㅏㄱㄱㅛ∅ ㅈㅜ∅ㅂㅕㄴㅇㅔ∅ ㅁㅏㄱ ㅇㅣ∅ㄷㅐ∅ ㅇㅕㄴㄷㅐ∅ ㅎㅗㅇㄷㅐ∅ ㅅㅓ∅ㄱㅏㅇㄷㅐ∅ ㅇㅣ∅ㄹㅓㅎㅈㅏㄶㅇㅏ∅ㅇㅛ∅ ㄱㅡ∅ㄹㅐ∅ㅅㅓ∅ ㄱㅡ∅ㄹㅓㄴ ㅇㅐ∅ㄷㅡㄹ ㅇㅓㅁㅊㅓㅇ ㅁㅜ∅ㅅㅣ∅ㅎㅏ∅ㄷㅓ∅ㄹㅏ∅ㄱㅗ∅ㅇㅛ∅\n",
      "--------\n",
      "/data_hdd/stt/KsponSpeech_sample/KsponSpeech_000019.txt\n",
      "n/ 근데 이+ 나만 안 하는 거 같애. 딴 사람들은 다 하고 l/\n",
      " ㄱㅡㄴㄷㅔ∅ ㅇㅣ∅ ㄴㅏ∅ㅁㅏㄴ ㅇㅏㄴ ㅎㅏ∅ㄴㅡㄴ ㄱㅓ∅ ㄱㅏㅌㅇㅐ∅ ㄸㅏㄴ ㅅㅏ∅ㄹㅏㅁㄷㅡㄹㅇㅡㄴ ㄷㅏ∅ ㅎㅏ∅ㄱㅗ∅ \n",
      "--------\n",
      "/data_hdd/stt/KsponSpeech_sample/KsponSpeech_000077.txt\n",
      "난 몰라. 뭐하는 덴지\n",
      "ㄴㅏㄴ ㅁㅗㄹㄹㅏ∅ ㅁㅝ∅ㅎㅏ∅ㄴㅡㄴ ㄷㅔㄴㅈㅣ∅\n",
      "--------\n",
      "/data_hdd/stt/KsponSpeech_sample/KsponSpeech_000039.txt\n",
      "o/ b/ 어 배우고 연습+ 연습할 시간이 없는데 어떻게 연습을 해요? 라고 여기까지 찼지만 b/ 아/ 네 할게요로 눌러버+ 눌러버렸지. b/\n",
      "  ㅇㅓ∅ ㅂㅐ∅ㅇㅜ∅ㄱㅗ∅ ㅇㅕㄴㅅㅡㅂ ㅇㅕㄴㅅㅡㅂㅎㅏㄹ ㅅㅣ∅ㄱㅏㄴㅇㅣ∅ ㅇㅓㅄㄴㅡㄴㄷㅔ∅ ㅇㅓ∅ㄸㅓㅎㄱㅔ∅ ㅇㅕㄴㅅㅡㅂㅇㅡㄹ ㅎㅐ∅ㅇㅛ∅ ㄹㅏ∅ㄱㅗ∅ ㅇㅕ∅ㄱㅣ∅ㄲㅏ∅ㅈㅣ∅ ㅊㅏㅆㅈㅣ∅ㅁㅏㄴ  ㅇㅏ∅ ㄴㅔ∅ ㅎㅏㄹㄱㅔ∅ㅇㅛ∅ㄹㅗ∅ ㄴㅜㄹㄹㅓ∅ㅂㅓ∅ ㄴㅜㄹㄹㅓ∅ㅂㅓ∅ㄹㅕㅆㅈㅣ∅ \n",
      "--------\n",
      "/data_hdd/stt/KsponSpeech_sample/KsponSpeech_000030.txt\n",
      "그/ 카레. 뿌라뽕 커리죠. 그/ 카레랑 같이 이렇게 소스만 만드는 법을 좀 배우면 한번 시도해볼 수도 있지 않을까 싶어요. 특히 좀 겨울철에 먹기에 굉장히 좋은 음식인 거 같아요.\n",
      "ㄱㅡ∅ ㅋㅏ∅ㄹㅔ∅ ㅃㅜ∅ㄹㅏ∅ㅃㅗㅇ ㅋㅓ∅ㄹㅣ∅ㅈㅛ∅ ㄱㅡ∅ ㅋㅏ∅ㄹㅔ∅ㄹㅏㅇ ㄱㅏㅌㅇㅣ∅ ㅇㅣ∅ㄹㅓㅎㄱㅔ∅ ㅅㅗ∅ㅅㅡ∅ㅁㅏㄴ ㅁㅏㄴㄷㅡ∅ㄴㅡㄴ ㅂㅓㅂㅇㅡㄹ ㅈㅗㅁ ㅂㅐ∅ㅇㅜ∅ㅁㅕㄴ ㅎㅏㄴㅂㅓㄴ ㅅㅣ∅ㄷㅗ∅ㅎㅐ∅ㅂㅗㄹ ㅅㅜ∅ㄷㅗ∅ ㅇㅣㅆㅈㅣ∅ ㅇㅏㄶㅇㅡㄹㄲㅏ∅ ㅅㅣㅍㅇㅓ∅ㅇㅛ∅ ㅌㅡㄱㅎㅣ∅ ㅈㅗㅁ ㄱㅕ∅ㅇㅜㄹㅊㅓㄹㅇㅔ∅ ㅁㅓㄱㄱㅣ∅ㅇㅔ∅ ㄱㅚㅇㅈㅏㅇㅎㅣ∅ ㅈㅗㅎㅇㅡㄴ ㅇㅡㅁㅅㅣㄱㅇㅣㄴ ㄱㅓ∅ ㄱㅏㅌㅇㅏ∅ㅇㅛ∅\n",
      "--------\n",
      "/data_hdd/stt/KsponSpeech_sample/KsponSpeech_000085.txt\n",
      "n/ 있잖아. n/ 그/ 너 해외여행 간 적 있어?\n",
      " ㅇㅣㅆㅈㅏㄶㅇㅏ∅  ㄱㅡ∅ ㄴㅓ∅ ㅎㅐ∅ㅇㅚ∅ㅇㅕ∅ㅎㅐㅇ ㄱㅏㄴ ㅈㅓㄱ ㅇㅣㅆㅇㅓ∅\n",
      "--------\n",
      "/data_hdd/stt/KsponSpeech_sample/KsponSpeech_000079.txt\n",
      "진에어나 이런 거 타봤어?\n",
      "ㅈㅣㄴㅇㅔ∅ㅇㅓ∅ㄴㅏ∅ ㅇㅣ∅ㄹㅓㄴ ㄱㅓ∅ ㅌㅏ∅ㅂㅘㅆㅇㅓ∅\n",
      "--------\n",
      "/data_hdd/stt/KsponSpeech_sample/KsponSpeech_000067.txt\n",
      "어쨌든 걔네+ 걔네랑 이제 내일 오랜만에 만나가지고 밥 먹기로 했는데\n",
      "ㅇㅓ∅ㅉㅐㅆㄷㅡㄴ ㄱㅒ∅ㄴㅔ∅ ㄱㅒ∅ㄴㅔ∅ㄹㅏㅇ ㅇㅣ∅ㅈㅔ∅ ㄴㅐ∅ㅇㅣㄹ ㅇㅗ∅ㄹㅐㄴㅁㅏㄴㅇㅔ∅ ㅁㅏㄴㄴㅏ∅ㄱㅏ∅ㅈㅣ∅ㄱㅗ∅ ㅂㅏㅂ ㅁㅓㄱㄱㅣ∅ㄹㅗ∅ ㅎㅐㅆㄴㅡㄴㄷㅔ∅\n",
      "--------\n",
      "/data_hdd/stt/KsponSpeech_sample/KsponSpeech_000045.txt\n",
      "불가리아 그쪽인가?\n",
      "ㅂㅜㄹㄱㅏ∅ㄹㅣ∅ㅇㅏ∅ ㄱㅡ∅ㅉㅗㄱㅇㅣㄴㄱㅏ∅\n",
      "--------\n",
      "/data_hdd/stt/KsponSpeech_sample/KsponSpeech_000020.txt\n",
      "o/ 아 b/ 설 연휴 때? 집에 있겠네 그럼 거의? b/ 음 그 옆집 사는 애?\n",
      " ㅇㅏ∅  ㅅㅓㄹ ㅇㅕㄴㅎㅠ∅ ㄸㅐ∅ ㅈㅣㅂㅇㅔ∅ ㅇㅣㅆㄱㅔㅆㄴㅔ∅ ㄱㅡ∅ㄹㅓㅁ ㄱㅓ∅ㅇㅢ∅  ㅇㅡㅁ ㄱㅡ∅ ㅇㅕㅍㅈㅣㅂ ㅅㅏ∅ㄴㅡㄴ ㅇㅐ∅\n",
      "--------\n",
      "/data_hdd/stt/KsponSpeech_sample/KsponSpeech_000076.txt\n",
      "o/ 요기 살아. n/ 여기 그/ 어디지? 상수동.\n",
      " ㅇㅛ∅ㄱㅣ∅ ㅅㅏㄹㅇㅏ∅  ㅇㅕ∅ㄱㅣ∅ ㄱㅡ∅ ㅇㅓ∅ㄷㅣ∅ㅈㅣ∅ ㅅㅏㅇㅅㅜ∅ㄷㅗㅇ\n",
      "--------\n",
      "/data_hdd/stt/KsponSpeech_sample/KsponSpeech_000034.txt\n",
      "l/ 불편하잖아, 장갑.\n",
      " ㅂㅜㄹㅍㅕㄴㅎㅏ∅ㅈㅏㄶㅇㅏ∅ ㅈㅏㅇㄱㅏㅂ\n",
      "--------\n",
      "/data_hdd/stt/KsponSpeech_sample/KsponSpeech_000023.txt\n",
      "o/ 나 다음 주에 강릉 가는데 같이 가자. b/ 야, 너 근데 학교 기숙사에서 살면 안 되냐?\n",
      " ㄴㅏ∅ ㄷㅏ∅ㅇㅡㅁ ㅈㅜ∅ㅇㅔ∅ ㄱㅏㅇㄹㅡㅇ ㄱㅏ∅ㄴㅡㄴㄷㅔ∅ ㄱㅏㅌㅇㅣ∅ ㄱㅏ∅ㅈㅏ∅  ㅇㅑ∅ ㄴㅓ∅ ㄱㅡㄴㄷㅔ∅ ㅎㅏㄱㄱㅛ∅ ㄱㅣ∅ㅅㅜㄱㅅㅏ∅ㅇㅔ∅ㅅㅓ∅ ㅅㅏㄹㅁㅕㄴ ㅇㅏㄴ ㄷㅚ∅ㄴㅑ∅\n",
      "--------\n",
      "/data_hdd/stt/KsponSpeech_sample/KsponSpeech_000089.txt\n",
      "o/ 응.\n",
      " ㅇㅡㅇ\n",
      "--------\n",
      "/data_hdd/stt/KsponSpeech_sample/KsponSpeech_000057.txt\n",
      "o/ 몰라 아직도 이유를 모르겠어.\n",
      " ㅁㅗㄹㄹㅏ∅ ㅇㅏ∅ㅈㅣㄱㄷㅗ∅ ㅇㅣ∅ㅇㅠ∅ㄹㅡㄹ ㅁㅗ∅ㄹㅡ∅ㄱㅔㅆㅇㅓ∅\n",
      "--------\n",
      "/data_hdd/stt/KsponSpeech_sample/KsponSpeech_000087.txt\n",
      "그거야 모르지.\n",
      "ㄱㅡ∅ㄱㅓ∅ㅇㅑ∅ ㅁㅗ∅ㄹㅡ∅ㅈㅣ∅\n",
      "--------\n",
      "/data_hdd/stt/KsponSpeech_sample/KsponSpeech_000035.txt\n",
      "응 근데 이거 한 세 시에 끝나니까.\n",
      "ㅇㅡㅇ ㄱㅡㄴㄷㅔ∅ ㅇㅣ∅ㄱㅓ∅ ㅎㅏㄴ ㅅㅔ∅ ㅅㅣ∅ㅇㅔ∅ ㄲㅡㅌㄴㅏ∅ㄴㅣ∅ㄲㅏ∅\n",
      "--------\n",
      "/data_hdd/stt/KsponSpeech_sample/KsponSpeech_000033.txt\n",
      "아 진짜 그러 에이씨 좋은 학교 다니니까 b/ 그런 것도 배우고 부럽다\n",
      "ㅇㅏ∅ ㅈㅣㄴㅉㅏ∅ ㄱㅡ∅ㄹㅓ∅ ㅇㅔ∅ㅇㅣ∅ㅆㅣ∅ ㅈㅗㅎㅇㅡㄴ ㅎㅏㄱㄱㅛ∅ ㄷㅏ∅ㄴㅣ∅ㄴㅣ∅ㄲㅏ∅  ㄱㅡ∅ㄹㅓㄴ ㄱㅓㅅㄷㅗ∅ ㅂㅐ∅ㅇㅜ∅ㄱㅗ∅ ㅂㅜ∅ㄹㅓㅂㄷㅏ∅\n",
      "--------\n",
      "/data_hdd/stt/KsponSpeech_sample/KsponSpeech_000072.txt\n",
      "근데 너 불닭볶음면 먹었다매. b/\n",
      "ㄱㅡㄴㄷㅔ∅ ㄴㅓ∅ ㅂㅜㄹㄷㅏㄺㅂㅗㄲㅇㅡㅁㅁㅕㄴ ㅁㅓㄱㅇㅓㅆㄷㅏ∅ㅁㅐ∅ \n",
      "--------\n",
      "/data_hdd/stt/KsponSpeech_sample/KsponSpeech_000081.txt\n",
      "대강 그렇게 해서 치면은 칠만 한 거 같던데\n",
      "ㄷㅐ∅ㄱㅏㅇ ㄱㅡ∅ㄹㅓㅎㄱㅔ∅ ㅎㅐ∅ㅅㅓ∅ ㅊㅣ∅ㅁㅕㄴㅇㅡㄴ ㅊㅣㄹㅁㅏㄴ ㅎㅏㄴ ㄱㅓ∅ ㄱㅏㅌㄷㅓㄴㄷㅔ∅\n",
      "--------\n",
      "/data_hdd/stt/KsponSpeech_sample/KsponSpeech_000049.txt\n",
      "o/ 아이* 근데 b/ 나는 너무 억지 영화* 억지스러운 웃음 유발. 그래가주고 천만 난 갈+ b/ 간다고 생각 안 했거든.\n",
      " ㅇㅏ∅ㅇㅣ∅ ㄱㅡㄴㄷㅔ∅  ㄴㅏ∅ㄴㅡㄴ ㄴㅓ∅ㅁㅜ∅ ㅇㅓㄱㅈㅣ∅ ㅇㅕㅇㅎㅘ∅ ㅇㅓㄱㅈㅣ∅ㅅㅡ∅ㄹㅓ∅ㅇㅜㄴ ㅇㅜㅅㅇㅡㅁ ㅇㅠ∅ㅂㅏㄹ ㄱㅡ∅ㄹㅐ∅ㄱㅏ∅ㅈㅜ∅ㄱㅗ∅ ㅊㅓㄴㅁㅏㄴ ㄴㅏㄴ ㄱㅏㄹ  ㄱㅏㄴㄷㅏ∅ㄱㅗ∅ ㅅㅐㅇㄱㅏㄱ ㅇㅏㄴ ㅎㅐㅆㄱㅓ∅ㄷㅡㄴ\n",
      "--------\n",
      "/data_hdd/stt/KsponSpeech_sample/KsponSpeech_000063.txt\n",
      "바로 월정리 해수욕장 앞에.\n",
      "ㅂㅏ∅ㄹㅗ∅ ㅇㅝㄹㅈㅓㅇㄹㅣ∅ ㅎㅐ∅ㅅㅜ∅ㅇㅛㄱㅈㅏㅇ ㅇㅏㅍㅇㅔ∅\n",
      "--------\n",
      "/data_hdd/stt/KsponSpeech_sample/KsponSpeech_000059.txt\n",
      "아니, 난 모르겠더라.\n",
      "ㅇㅏ∅ㄴㅣ∅ ㄴㅏㄴ ㅁㅗ∅ㄹㅡ∅ㄱㅔㅆㄷㅓ∅ㄹㅏ∅\n",
      "--------\n",
      "/data_hdd/stt/KsponSpeech_sample/KsponSpeech_000093.txt\n",
      "아/ (13일)/(십 삼 일). 너 (13일)/(십 삼 일)날 뭐 한다 했지? n/\n",
      "ㅇㅏ∅ ㅇㅣㄹㅅㅣㅂ ㅅㅏㅁ ㅇㅣㄹ ㄴㅓ∅ ㅇㅣㄹㅅㅣㅂ ㅅㅏㅁ ㅇㅣㄹㄴㅏㄹ ㅁㅝ∅ ㅎㅏㄴㄷㅏ∅ ㅎㅐㅆㅈㅣ∅ \n",
      "--------\n",
      "/data_hdd/stt/KsponSpeech_sample/KsponSpeech_000002.txt\n",
      "나는 악습은 원래 없어진다+ 없어져야 된다고 생각하긴 했는데 근데 그/ 약간 필요악으로 하나 정도쯤은 있어야 되거든. 물 뜨러 가고.\n",
      "ㄴㅏ∅ㄴㅡㄴ ㅇㅏㄱㅅㅡㅂㅇㅡㄴ ㅇㅝㄴㄹㅐ∅ ㅇㅓㅄㅇㅓ∅ㅈㅣㄴㄷㅏ∅ ㅇㅓㅄㅇㅓ∅ㅈㅕ∅ㅇㅑ∅ ㄷㅚㄴㄷㅏ∅ㄱㅗ∅ ㅅㅐㅇㄱㅏㄱㅎㅏ∅ㄱㅣㄴ ㅎㅐㅆㄴㅡㄴㄷㅔ∅ ㄱㅡㄴㄷㅔ∅ ㄱㅡ∅ ㅇㅑㄱㄱㅏㄴ ㅍㅣㄹㅇㅛ∅ㅇㅏㄱㅇㅡ∅ㄹㅗ∅ ㅎㅏ∅ㄴㅏ∅ ㅈㅓㅇㄷㅗ∅ㅉㅡㅁㅇㅡㄴ ㅇㅣㅆㅇㅓ∅ㅇㅑ∅ ㄷㅚ∅ㄱㅓ∅ㄷㅡㄴ ㅁㅜㄹ ㄸㅡ∅ㄹㅓ∅ ㄱㅏ∅ㄱㅗ∅\n",
      "--------\n"
     ]
    }
   ],
   "source": [
    "for txt in txt_files:\n",
    "    with open(txt, 'r', encoding='cp949') as f:\n",
    "        _txt = preprocess_text(txt)\n",
    "        print(txt)\n",
    "        print(f.readline().rstrip())\n",
    "        print(_txt)\n",
    "        print('--------')"
   ]
  },
  {
   "cell_type": "code",
   "execution_count": 23,
   "metadata": {},
   "outputs": [],
   "source": [
    "txt = '한 (3만원)/(삼만 원)인가 그럴걸 (aaa)/(ddd)'\n",
    "txt = '한 (3만원)/(삼만 원)인가 그/ b/ h/ 그럴걸 (aaa)/(ddd)'\n",
    "txt = '한 (3만원)/(삼만 원)인가 그/ b/ h/ 그럴걸 (aaa)/(ddd)333'"
   ]
  },
  {
   "cell_type": "code",
   "execution_count": 24,
   "metadata": {},
   "outputs": [],
   "source": [
    "import re"
   ]
  },
  {
   "cell_type": "code",
   "execution_count": 25,
   "metadata": {},
   "outputs": [
    {
     "data": {
      "text/plain": [
       "'한 더/더인가 그/ b/ h/ 그럴걸 더/더333'"
      ]
     },
     "execution_count": 25,
     "metadata": {},
     "output_type": "execute_result"
    }
   ],
   "source": [
    "re.sub('\\(.*?\\)', '더', txt)"
   ]
  },
  {
   "cell_type": "code",
   "execution_count": 26,
   "metadata": {},
   "outputs": [
    {
     "data": {
      "text/plain": [
       "<_sre.SRE_Match object; span=(2, 7), match='(3만원)'>"
      ]
     },
     "execution_count": 26,
     "metadata": {},
     "output_type": "execute_result"
    }
   ],
   "source": [
    "re.search('\\(.*?\\)', txt)"
   ]
  },
  {
   "cell_type": "code",
   "execution_count": 27,
   "metadata": {},
   "outputs": [],
   "source": [
    "amb = re.findall('\\(.*?\\)\\/\\(.*?\\)', txt)"
   ]
  },
  {
   "cell_type": "code",
   "execution_count": 28,
   "metadata": {},
   "outputs": [
    {
     "name": "stdout",
     "output_type": "stream",
     "text": [
      "['(3만원)', '(삼만 원)']\n",
      "['(aaa)', '(ddd)']\n"
     ]
    }
   ],
   "source": [
    "for ai in amb:\n",
    "    print(ai.split('/'))"
   ]
  },
  {
   "cell_type": "code",
   "execution_count": 29,
   "metadata": {},
   "outputs": [],
   "source": [
    "def remove_noise(txt):\n",
    "    txt = re.sub('b\\/', 'B', txt)\n",
    "    txt = re.sub('l\\/', 'L', txt)\n",
    "    txt = re.sub('o\\/', 'O', txt)\n",
    "    txt = re.sub('n\\/', 'N', txt)\n",
    "    return txt"
   ]
  },
  {
   "cell_type": "code",
   "execution_count": 30,
   "metadata": {},
   "outputs": [
    {
     "data": {
      "text/plain": [
       "'한 (3만원)/(삼만 원)인가 그/ B h/ 그럴걸 (aaa)/(ddd)333'"
      ]
     },
     "execution_count": 30,
     "metadata": {},
     "output_type": "execute_result"
    }
   ],
   "source": [
    "remove_noise(txt)"
   ]
  },
  {
   "cell_type": "code",
   "execution_count": 31,
   "metadata": {},
   "outputs": [],
   "source": [
    "def remove_unnecessary(txt):\n",
    "    txt = re.sub('[가-힣]\\/', 'U', txt)\n",
    "    return txt"
   ]
  },
  {
   "cell_type": "code",
   "execution_count": 32,
   "metadata": {},
   "outputs": [
    {
     "data": {
      "text/plain": [
       "'한 (3만원)/(삼만 원)인가 U b/ h/ 그럴걸 (aaa)/(ddd)333'"
      ]
     },
     "execution_count": 32,
     "metadata": {},
     "output_type": "execute_result"
    }
   ],
   "source": [
    "remove_unnecessary(txt)"
   ]
  },
  {
   "cell_type": "code",
   "execution_count": 38,
   "metadata": {},
   "outputs": [
    {
     "data": {
      "text/plain": [
       "['(3만원)', '(삼만 원)', '(aaa)', '(ddd)']"
      ]
     },
     "execution_count": 38,
     "metadata": {},
     "output_type": "execute_result"
    }
   ],
   "source": [
    "re.findall('\\(.+?\\)', txt)"
   ]
  },
  {
   "cell_type": "code",
   "execution_count": 35,
   "metadata": {},
   "outputs": [],
   "source": [
    "def remove_ambigous(txt):\n",
    "    #txt = re.sub('\\/\\(.*?\\)', '', txt)\n",
    "    txt = re.sub('\\/\\(.+?\\)', '', txt)\n",
    "    #txt = re.sub('[\\(|\\)]', '', txt)\n",
    "    return txt"
   ]
  },
  {
   "cell_type": "code",
   "execution_count": 36,
   "metadata": {},
   "outputs": [
    {
     "data": {
      "text/plain": [
       "('한 (3만원)인가 그/ b/ h/ 그럴걸 (aaa)333',\n",
       " '한 (3만원)/(삼만 원)인가 그/ b/ h/ 그럴걸 (aaa)/(ddd)333')"
      ]
     },
     "execution_count": 36,
     "metadata": {},
     "output_type": "execute_result"
    }
   ],
   "source": [
    "remove_ambigous(txt), txt"
   ]
  },
  {
   "cell_type": "code",
   "execution_count": 19,
   "metadata": {},
   "outputs": [
    {
     "data": {
      "text/plain": [
       "'한 3만원인가 b/ h/ 그럴걸 aaa'"
      ]
     },
     "execution_count": 19,
     "metadata": {},
     "output_type": "execute_result"
    }
   ],
   "source": [
    "remove_ambigous(txt)"
   ]
  },
  {
   "cell_type": "code",
   "execution_count": 20,
   "metadata": {},
   "outputs": [],
   "source": [
    "def parsing_text(txt):\n",
    "    txt = remove_noise(txt)\n",
    "    txt = remove_ambigous(txt)\n",
    "    return txt"
   ]
  },
  {
   "cell_type": "code",
   "execution_count": 21,
   "metadata": {
    "scrolled": false
   },
   "outputs": [
    {
     "name": "stdout",
     "output_type": "stream",
     "text": [
      "/data_hdd/stt/KsponSpeech_sample/KsponSpeech_000011.txt\n",
      "n/ 아/ 근데 (1시)/(한 시)에 닫는 게 쫌 아쉽긴 한데 거기 진짜 괜찮은데 b/\n",
      "N 아/ 근데 1시에 닫는 게 쫌 아쉽긴 한데 거기 진짜 괜찮은데 B\n",
      "-------\n",
      "/data_hdd/stt/KsponSpeech_sample/KsponSpeech_000099.txt\n",
      "o/ n/ b/ 쌔 차 사니까 아빠가 맨날 자랑해. b/ 등에서 히터 나오고 b/ 엉덩이에서 히터 나오고 막/ b/ 무슨 기능들이 뭐가 이렇게 많다고 설명하는데 하나도 모르겠어 나는. b/ n/\n",
      "O N B 쌔 차 사니까 아빠가 맨날 자랑해. B 등에서 히터 나오고 B 엉덩이에서 히터 나오고 막/ B 무슨 기능들이 뭐가 이렇게 많다고 설명하는데 하나도 모르겠어 나는. B N\n",
      "-------\n",
      "/data_hdd/stt/KsponSpeech_sample/KsponSpeech_000013.txt\n",
      "삼 점대야? 언니가?\n",
      "삼 점대야? 언니가?\n",
      "-------\n",
      "/data_hdd/stt/KsponSpeech_sample/KsponSpeech_000088.txt\n",
      "o/ 오/ 신기하다. 음 무슨 알바를 그렇게 신중하게\n",
      "O 오/ 신기하다. 음 무슨 알바를 그렇게 신중하게\n",
      "-------\n",
      "/data_hdd/stt/KsponSpeech_sample/KsponSpeech_000066.txt\n",
      "응/ 니가 바리깡 가져오라고 재촉해 가지고 바리깡만 챙겼어. l/\n",
      "응/ 니가 바리깡 가져오라고 재촉해 가지고 바리깡만 챙겼어. L\n",
      "-------\n",
      "/data_hdd/stt/KsponSpeech_sample/KsponSpeech_000001.txt\n",
      "아/ 몬 소리야, 그건 또. b/\n",
      "아/ 몬 소리야, 그건 또. B\n",
      "-------\n",
      "/data_hdd/stt/KsponSpeech_sample/KsponSpeech_000004.txt\n",
      "뭐/ 정신과 병원도 그 약 타서 먹어보고, 그 한동안 연락이 안 된 적이 있었단 말이야. 그때가 언제였 언제였더라?\n",
      "뭐/ 정신과 병원도 그 약 타서 먹어보고, 그 한동안 연락이 안 된 적이 있었단 말이야. 그때가 언제였 언제였더라?\n",
      "-------\n",
      "/data_hdd/stt/KsponSpeech_sample/KsponSpeech_000006.txt\n",
      "그/ 친애하는 판사님께라는 법+ 법 관련 드라마 알고 있어?\n",
      "그/ 친애하는 판사님께라는 법+ 법 관련 드라마 알고 있어?\n",
      "-------\n",
      "/data_hdd/stt/KsponSpeech_sample/KsponSpeech_000031.txt\n",
      "o/ 아/ 그건 절대로 안 할 거야.\n",
      "O 아/ 그건 절대로 안 할 거야.\n",
      "-------\n",
      "/data_hdd/stt/KsponSpeech_sample/KsponSpeech_000042.txt\n",
      "b/ 빨리 가야 돼.\n",
      "B 빨리 가야 돼.\n",
      "-------\n",
      "/data_hdd/stt/KsponSpeech_sample/KsponSpeech_000010.txt\n",
      "아/ 내일 나 알바하구나.\n",
      "아/ 내일 나 알바하구나.\n",
      "-------\n",
      "/data_hdd/stt/KsponSpeech_sample/KsponSpeech_000041.txt\n",
      "o/ 그래. 어차피 먹어야 되니까 인제 음/\n",
      "O 그래. 어차피 먹어야 되니까 인제 음/\n",
      "-------\n",
      "/data_hdd/stt/KsponSpeech_sample/KsponSpeech_000095.txt\n",
      "b/ 야 그만 웃으라고.\n",
      "B 야 그만 웃으라고.\n",
      "-------\n",
      "/data_hdd/stt/KsponSpeech_sample/KsponSpeech_000028.txt\n",
      "n/ 과학적 근거가 있는 팩튼지\n",
      "N 과학적 근거가 있는 팩튼지\n",
      "-------\n",
      "/data_hdd/stt/KsponSpeech_sample/KsponSpeech_000024.txt\n",
      "목포 너무 비싸, b/ 어, 시외버스도 비싸고, 한 (3만원)/(삼만 원)인가 그럴걸.\n",
      "목포 너무 비싸, B 어, 시외버스도 비싸고, 한 3만원인가 그럴걸.\n",
      "-------\n",
      "/data_hdd/stt/KsponSpeech_sample/KsponSpeech_000008.txt\n",
      "그래\n",
      "그래\n",
      "-------\n",
      "/data_hdd/stt/KsponSpeech_sample/KsponSpeech_000007.txt\n",
      "o/ 그래가지고 진짜 차 사야겠다 아니 뭐/ 차 안 되면 스쿠터라도 타야되겠다 막/ 그런 생각 들더라구 그래서 운전은 하는 게 좋은 거 같애 진짜 b/\n",
      "O 그래가지고 진짜 차 사야겠다 아니 뭐/ 차 안 되면 스쿠터라도 타야되겠다 막/ 그런 생각 들더라구 그래서 운전은 하는 게 좋은 거 같애 진짜 B\n",
      "-------\n",
      "/data_hdd/stt/KsponSpeech_sample/KsponSpeech_001000.txt\n",
      "(8분)/(팔 분) 타지 않았어?\n",
      "8분 타지 않았어?\n",
      "-------\n",
      "/data_hdd/stt/KsponSpeech_sample/KsponSpeech_000094.txt\n",
      "어. 바로+ 바로 이적했지.\n",
      "어. 바로+ 바로 이적했지.\n",
      "-------\n",
      "/data_hdd/stt/KsponSpeech_sample/KsponSpeech_000056.txt\n",
      "얘는 바쁘구 나는 여유롭다고 여유로운 사람이 매달리고 어/ 나랑 놀자 이러고 그건 좀 자기 욕심이야. 진짜 자기만 생각하는 거야.\n",
      "얘는 바쁘구 나는 여유롭다고 여유로운 사람이 매달리고 어/ 나랑 놀자 이러고 그건 좀 자기 욕심이야. 진짜 자기만 생각하는 거야.\n",
      "-------\n",
      "/data_hdd/stt/KsponSpeech_sample/KsponSpeech_000054.txt\n",
      "근데 진짜 잘해.\n",
      "근데 진짜 잘해.\n",
      "-------\n",
      "/data_hdd/stt/KsponSpeech_sample/KsponSpeech_000040.txt\n",
      "o/ b/ 대단하다 그런 생각, 난 생각 조차 못 하겠더라. 나는\n",
      "O B 대단하다 그런 생각, 난 생각 조차 못 하겠더라. 나는\n",
      "-------\n",
      "/data_hdd/stt/KsponSpeech_sample/KsponSpeech_000037.txt\n",
      "할머니가 아까 너가 말한 거 같은 복숭아 맛 그런 요플레 l/ 그걸로 해서 드셨던 거 같애.\n",
      "할머니가 아까 너가 말한 거 같은 복숭아 맛 그런 요플레 L 그걸로 해서 드셨던 거 같애.\n",
      "-------\n",
      "/data_hdd/stt/KsponSpeech_sample/KsponSpeech_000082.txt\n",
      "아무튼 순우형.\n",
      "아무튼 순우형.\n",
      "-------\n",
      "/data_hdd/stt/KsponSpeech_sample/KsponSpeech_000043.txt\n",
      "헬스는 끝났어?\n",
      "헬스는 끝났어?\n",
      "-------\n",
      "/data_hdd/stt/KsponSpeech_sample/KsponSpeech_000055.txt\n",
      "n/ 웃기지 마. 니 l/ 니 제일 좋아했잖아. 내 썰 듣는 거.\n",
      "N 웃기지 마. 니 L 니 제일 좋아했잖아. 내 썰 듣는 거.\n",
      "-------\n",
      "/data_hdd/stt/KsponSpeech_sample/KsponSpeech_000069.txt\n",
      "b/ 아니야 나, 내가 농구경기 직관 한 번 가봤는데, 밤에 했어.\n",
      "B 아니야 나, 내가 농구경기 직관 한 번 가봤는데, 밤에 했어.\n",
      "-------\n",
      "/data_hdd/stt/KsponSpeech_sample/KsponSpeech_000022.txt\n",
      "무한도전은 완전 폐지돼서 없어졌는데 너는 무한도전을 자주 잘 챙겨 봤어?\n",
      "무한도전은 완전 폐지돼서 없어졌는데 너는 무한도전을 자주 잘 챙겨 봤어?\n",
      "-------\n",
      "/data_hdd/stt/KsponSpeech_sample/KsponSpeech_000046.txt\n",
      "전문가용인데, 그/ 막 음너+ 음원 녹음하고 그런 거 올리는 b/ 그런 아이딘가 봐 나 근데 나 잘 모르겠어.\n",
      "전문가용인데, 그/ 막 음너+ 음원 녹음하고 그런 거 올리는 B 그런 아이딘가 봐 나 근데 나 잘 모르겠어.\n",
      "-------\n",
      "/data_hdd/stt/KsponSpeech_sample/KsponSpeech_000014.txt\n",
      "한+ 한+ 한 시간에 이 만 원? 거의 이 정도로 이 정도란 말이야. b/\n",
      "한+ 한+ 한 시간에 이 만 원? 거의 이 정도로 이 정도란 말이야. B\n",
      "-------\n",
      "/data_hdd/stt/KsponSpeech_sample/KsponSpeech_000091.txt\n",
      "n/ 금방 가. 네 시까지. n/\n",
      "N 금방 가. 네 시까지. N\n",
      "-------\n",
      "/data_hdd/stt/KsponSpeech_sample/KsponSpeech_000051.txt\n",
      "투표를 뭐/ 자주 할지언정\n",
      "투표를 뭐/ 자주 할지언정\n",
      "-------\n",
      "/data_hdd/stt/KsponSpeech_sample/KsponSpeech_000036.txt\n",
      "글쎄.\n",
      "글쎄.\n",
      "-------\n",
      "/data_hdd/stt/KsponSpeech_sample/KsponSpeech_000029.txt\n",
      "알겠어.\n",
      "알겠어.\n",
      "-------\n",
      "/data_hdd/stt/KsponSpeech_sample/KsponSpeech_000060.txt\n",
      "빨리 일정이 나오면 그래도 어느 정돈 하는데.\n",
      "빨리 일정이 나오면 그래도 어느 정돈 하는데.\n",
      "-------\n",
      "/data_hdd/stt/KsponSpeech_sample/KsponSpeech_000096.txt\n",
      "o/ 근데 우리 신랑이 그런 데만 가면 b/ 그/ 투어버스를 너무 좋아해.\n",
      "O 근데 우리 신랑이 그런 데만 가면 B 그/ 투어버스를 너무 좋아해.\n",
      "-------\n",
      "/data_hdd/stt/KsponSpeech_sample/KsponSpeech_000021.txt\n",
      "왜 b/\n",
      "왜 B\n",
      "-------\n",
      "/data_hdd/stt/KsponSpeech_sample/KsponSpeech_000005.txt\n",
      "o/ b/ 그게 (0.1프로)/(영 점 일 프로) 가정의 아이들과 가정의 모습이야? b/\n",
      "O B 그게 0.1프로 가정의 아이들과 가정의 모습이야? B\n",
      "-------\n",
      "/data_hdd/stt/KsponSpeech_sample/KsponSpeech_000061.txt\n",
      "당연하지. 우리 아파트 살잖아.\n",
      "당연하지. 우리 아파트 살잖아.\n",
      "-------\n",
      "/data_hdd/stt/KsponSpeech_sample/KsponSpeech_000038.txt\n",
      "o/ b/ 네+ 네. b/\n",
      "O B 네+ 네. B\n",
      "-------\n",
      "/data_hdd/stt/KsponSpeech_sample/KsponSpeech_000068.txt\n",
      "o/ 응. b/ 그래+ 아/ 까 b/ 아마 좀 있으면 괜찮아질 거야 이랬거든. 근데 지금 한지 좀 지났는데 아직도 눈이 시리대. 그래서* 병원에 가서 얘길 했더니 b/ 난시가 너무 심한 눈이어서 이게 꽤 오래갈 수도 있다는 거야. b/\n",
      "O 응. B 그래+ 아/ 까 B 아마 좀 있으면 괜찮아질 거야 이랬거든. 근데 지금 한지 좀 지났는데 아직도 눈이 시리대. 그래서* 병원에 가서 얘길 했더니 B 난시가 너무 심한 눈이어서 이게 꽤 오래갈 수도 있다는 거야. B\n",
      "-------\n",
      "/data_hdd/stt/KsponSpeech_sample/KsponSpeech_000064.txt\n",
      "어 막 트라이팟이 이런 거 좀 그렇게 보이잖아. 어.\n",
      "어 막 트라이팟이 이런 거 좀 그렇게 보이잖아. 어.\n",
      "-------\n",
      "/data_hdd/stt/KsponSpeech_sample/KsponSpeech_000012.txt\n",
      "맞아. 시간 안에 풀고 약간 이것부터 풀고 요런 식으로 풀어보렴. 이런 거 b/\n",
      "맞아. 시간 안에 풀고 약간 이것부터 풀고 요런 식으로 풀어보렴. 이런 거 B\n",
      "-------\n",
      "/data_hdd/stt/KsponSpeech_sample/KsponSpeech_000003.txt\n",
      "b/ n/ 그래서 지호랑 계단 n/ 올라와서 b/ 막 위에 운동하는 기구 있대요. b/ 그서 그걸로 운동 할려구요. b/ n/\n",
      "B N 그래서 지호랑 계단 N 올라와서 B 막 위에 운동하는 기구 있대요. B 그서 그걸로 운동 할려구요. B N\n",
      "-------\n",
      "/data_hdd/stt/KsponSpeech_sample/KsponSpeech_000018.txt\n",
      "o/ l/ 해? 아/ 뭔가 효과가 있어 근데?\n",
      "O L 해? 아/ 뭔가 효과가 있어 근데?\n",
      "-------\n",
      "/data_hdd/stt/KsponSpeech_sample/KsponSpeech_000078.txt\n",
      "o/ 경영학관데, 연대 경제 뚫었어, 편입으로. 나 진짜* 그래서, b/ 에타 학게가* 있었어. 탈홍합니다. b/\n",
      "O 경영학관데, 연대 경제 뚫었어, 편입으로. 나 진짜* 그래서, B 에타 학게가* 있었어. 탈홍합니다. B\n",
      "-------\n",
      "/data_hdd/stt/KsponSpeech_sample/KsponSpeech_000032.txt\n",
      "그렇긴 했는데\n",
      "그렇긴 했는데\n",
      "-------\n",
      "/data_hdd/stt/KsponSpeech_sample/KsponSpeech_000025.txt\n",
      "근데 왜 그 집을 기억을 못 해?\n",
      "근데 왜 그 집을 기억을 못 해?\n",
      "-------\n",
      "/data_hdd/stt/KsponSpeech_sample/KsponSpeech_000027.txt\n",
      "o/ 아/ 니가 사주는 거였어?\n",
      "O 아/ 니가 사주는 거였어?\n",
      "-------\n",
      "/data_hdd/stt/KsponSpeech_sample/KsponSpeech_000097.txt\n",
      "예전에는 B 언어였는데. 지금은 C 데, C언어부터 기반을 다져서 게임은 C샾 이라는 걸 써.\n",
      "예전에는 B 언어였는데. 지금은 C 데, C언어부터 기반을 다져서 게임은 C샾 이라는 걸 써.\n",
      "-------\n",
      "/data_hdd/stt/KsponSpeech_sample/KsponSpeech_000016.txt\n",
      "아/ 근데 강남 너무 비싸.\n",
      "아/ 근데 강남 너무 비싸.\n",
      "-------\n",
      "/data_hdd/stt/KsponSpeech_sample/KsponSpeech_000083.txt\n",
      "그래 지금 많이 시도 엄마한테 그/ 어머니한테 그때 전화해 가지고 b/\n",
      "그래 지금 많이 시도 엄마한테 그/ 어머니한테 그때 전화해 가지고 B\n",
      "-------\n",
      "/data_hdd/stt/KsponSpeech_sample/KsponSpeech_000050.txt\n",
      "b/ 뭐 생각해 논 거 있어? b/\n",
      "B 뭐 생각해 논 거 있어? B\n",
      "-------\n",
      "/data_hdd/stt/KsponSpeech_sample/KsponSpeech_000044.txt\n",
      "아니야 좀 심했어, 진짜.\n",
      "아니야 좀 심했어, 진짜.\n",
      "-------\n",
      "/data_hdd/stt/KsponSpeech_sample/KsponSpeech_000048.txt\n",
      "재수를 마치고 지금은 알바를 찾고 있는 거 같아.\n",
      "재수를 마치고 지금은 알바를 찾고 있는 거 같아.\n",
      "-------\n",
      "/data_hdd/stt/KsponSpeech_sample/KsponSpeech_000070.txt\n",
      "o/ 근데 대+ 댓글 보니까. 땅콩 드리겠지. 뭐. 이러던데? 어/ 대한 항공. b/\n",
      "O 근데 대+ 댓글 보니까. 땅콩 드리겠지. 뭐. 이러던데? 어/ 대한 항공. B\n",
      "-------\n",
      "/data_hdd/stt/KsponSpeech_sample/KsponSpeech_000074.txt\n",
      "o/ 잠만 기달려봐, 지금. (11시)/(열 한 시). 어차피 니 (11시)/(열 한 시) (20분)/(이십 분)까지 도착해야 되는 거지?\n",
      "O 잠만 기달려봐, 지금. 11시. 어차피 니 11시 20분까지 도착해야 되는 거지?\n",
      "-------\n",
      "/data_hdd/stt/KsponSpeech_sample/KsponSpeech_000026.txt\n",
      "복싱 안 배워봤어?\n",
      "복싱 안 배워봤어?\n",
      "-------\n",
      "/data_hdd/stt/KsponSpeech_sample/KsponSpeech_000086.txt\n",
      "n/ 재수할 때 많이 와봤지. 여기는.\n",
      "N 재수할 때 많이 와봤지. 여기는.\n",
      "-------\n",
      "/data_hdd/stt/KsponSpeech_sample/KsponSpeech_000053.txt\n",
      "l/ b/ 그거 찍을 생각을 못 했어.\n",
      "L B 그거 찍을 생각을 못 했어.\n",
      "-------\n",
      "/data_hdd/stt/KsponSpeech_sample/KsponSpeech_000071.txt\n",
      "야 아직 어리네.\n",
      "야 아직 어리네.\n",
      "-------\n",
      "/data_hdd/stt/KsponSpeech_sample/KsponSpeech_000047.txt\n",
      "o/ 왜 자랐냐고?\n",
      "O 왜 자랐냐고?\n",
      "-------\n",
      "/data_hdd/stt/KsponSpeech_sample/KsponSpeech_000015.txt\n",
      "굳이 싶기도 해. 까* 오히려 사원 이런 것보다는 b/ 대신 돔* 먹+ 먹, 음식 거리, 먹거리가 우리 입맛에 좀 더 맞는 거 같고.\n",
      "굳이 싶기도 해. 까* 오히려 사원 이런 것보다는 B 대신 돔* 먹+ 먹, 음식 거리, 먹거리가 우리 입맛에 좀 더 맞는 거 같고.\n",
      "-------\n",
      "/data_hdd/stt/KsponSpeech_sample/KsponSpeech_000084.txt\n",
      "나 그걸로 요즘 미생 봐. 아/ 나 요즘 미생 봐, 미생. 어.\n",
      "나 그걸로 요즘 미생 봐. 아/ 나 요즘 미생 봐, 미생. 어.\n",
      "-------\n",
      "/data_hdd/stt/KsponSpeech_sample/KsponSpeech_000009.txt\n",
      "o/ 나도 몰라. 나 그/ (3G)/(쓰리 쥐)* 하나도 안 봤음. 어.\n",
      "O 나도 몰라. 나 그/ 3G* 하나도 안 봤음. 어.\n",
      "-------\n",
      "/data_hdd/stt/KsponSpeech_sample/KsponSpeech_000052.txt\n",
      "o/ 아이/ 말해봐.\n",
      "O 아이/ 말해봐.\n",
      "-------\n",
      "/data_hdd/stt/KsponSpeech_sample/KsponSpeech_000062.txt\n",
      "아이/ 딱히 효과 없어가지고 안에서 바를 때도.\n",
      "아이/ 딱히 효과 없어가지고 안에서 바를 때도.\n",
      "-------\n",
      "/data_hdd/stt/KsponSpeech_sample/KsponSpeech_000075.txt\n",
      "아/ 그래서 팔팔이 (1컷)/(일 컷)이 나왔구나. 우리 아이/ 내가 보통 비킬러 풀면은 이/ 비킬러 세무 그에가 킬러 세 문제 빼면은 스물 일곱 문제잖아? 내 스물 일곱 문제 푸는 나는 보통 한 (2)/(이), (30분)/(삼십 분) 걸리고 거기다 (10)/(십 분)?\n",
      "아/ 그래서 팔팔이 1컷이 나왔구나. 우리 아이/ 내가 보통 비킬러 풀면은 이/ 비킬러 세무 그에가 킬러 세 문제 빼면은 스물 일곱 문제잖아? 내 스물 일곱 문제 푸는 나는 보통 한 2, 30분 걸리고 거기다 10?\n",
      "-------\n",
      "/data_hdd/stt/KsponSpeech_sample/KsponSpeech_000073.txt\n",
      "o/ b/ 아무 신경을 안 썼거든? 수사에서 더 한 것도 해 봤잖아. b/\n",
      "O B 아무 신경을 안 썼거든? 수사에서 더 한 것도 해 봤잖아. B\n",
      "-------\n",
      "/data_hdd/stt/KsponSpeech_sample/KsponSpeech_000098.txt\n",
      "n/ 월남쌈 안 먹은 지 오래됐는데. b/\n",
      "N 월남쌈 안 먹은 지 오래됐는데. B\n",
      "-------\n",
      "/data_hdd/stt/KsponSpeech_sample/KsponSpeech_000092.txt\n",
      "그 외에는 또 뭐 다른 게, 만들어 먹던 그런 건 없었어?\n",
      "그 외에는 또 뭐 다른 게, 만들어 먹던 그런 건 없었어?\n",
      "-------\n",
      "/data_hdd/stt/KsponSpeech_sample/KsponSpeech_000065.txt\n",
      "o/ 어 그러지 말라 그래 나 진짜 근데 이번에 또 오면 진짜 차단할 거야.\n",
      "O 어 그러지 말라 그래 나 진짜 근데 이번에 또 오면 진짜 차단할 거야.\n",
      "-------\n",
      "/data_hdd/stt/KsponSpeech_sample/KsponSpeech_000058.txt\n",
      "맞아. 나도 (2015년)/(이천 십 오 년)에 프로필 찍었을 때 b/ 정말 나 혼자 가고 처음 찍는 건데 아예 생판 모르는 포토그래퍼한테 찍어가지고 b/ 어/ 괜찮긴 한데 너무 사진들을 지금 보면 얼굴에 어색함이 b/ 많아가지고 어따 쓸 수도 없고 b/ 컨셉 회의 같은 걸 안 했었어. 근데 나는 그런 걸 원래 하는지 몰랐어.\n",
      "맞아. 나도 2015년에 프로필 찍었을 때 B 정말 나 혼자 가고 처음 찍는 건데 아예 생판 모르는 포토그래퍼한테 찍어가지고 B 어/ 괜찮긴 한데 너무 사진들을 지금 보면 얼굴에 어색함이 B 많아가지고 어따 쓸 수도 없고 B 컨셉 회의 같은 걸 안 했었어. 근데 나는 그런 걸 원래 하는지 몰랐어.\n",
      "-------\n",
      "/data_hdd/stt/KsponSpeech_sample/KsponSpeech_000090.txt\n",
      "애들 막/ 못 막잖아.\n",
      "애들 막/ 못 막잖아.\n",
      "-------\n",
      "/data_hdd/stt/KsponSpeech_sample/KsponSpeech_000017.txt\n",
      "나, 먼저 집에 가께\n",
      "나, 먼저 집에 가께\n",
      "-------\n",
      "/data_hdd/stt/KsponSpeech_sample/KsponSpeech_000080.txt\n",
      "근데 저 명지대 다니는데 학교 주변에 막 이대, 연대, 홍대, 서강대 이렇잖아요. 그래서 그런 애들 엄청 무시하더라고요.\n",
      "근데 저 명지대 다니는데 학교 주변에 막 이대, 연대, 홍대, 서강대 이렇잖아요. 그래서 그런 애들 엄청 무시하더라고요.\n",
      "-------\n",
      "/data_hdd/stt/KsponSpeech_sample/KsponSpeech_000019.txt\n",
      "n/ 근데 이+ 나만 안 하는 거 같애. 딴 사람들은 다 하고 l/\n",
      "N 근데 이+ 나만 안 하는 거 같애. 딴 사람들은 다 하고 L\n",
      "-------\n",
      "/data_hdd/stt/KsponSpeech_sample/KsponSpeech_000077.txt\n",
      "난 몰라. 뭐하는 덴지\n",
      "난 몰라. 뭐하는 덴지\n",
      "-------\n",
      "/data_hdd/stt/KsponSpeech_sample/KsponSpeech_000039.txt\n",
      "o/ b/ 어 배우고 연습+ 연습할 시간이 없는데 어떻게 연습을 해요? 라고 여기까지 찼지만 b/ 아/ 네 할게요로 눌러버+ 눌러버렸지. b/\n",
      "O B 어 배우고 연습+ 연습할 시간이 없는데 어떻게 연습을 해요? 라고 여기까지 찼지만 B 아/ 네 할게요로 눌러버+ 눌러버렸지. B\n",
      "-------\n",
      "/data_hdd/stt/KsponSpeech_sample/KsponSpeech_000030.txt\n",
      "그/ 카레. 뿌라뽕 커리죠. 그/ 카레랑 같이 이렇게 소스만 만드는 법을 좀 배우면 한번 시도해볼 수도 있지 않을까 싶어요. 특히 좀 겨울철에 먹기에 굉장히 좋은 음식인 거 같아요.\n",
      "그/ 카레. 뿌라뽕 커리죠. 그/ 카레랑 같이 이렇게 소스만 만드는 법을 좀 배우면 한번 시도해볼 수도 있지 않을까 싶어요. 특히 좀 겨울철에 먹기에 굉장히 좋은 음식인 거 같아요.\n",
      "-------\n",
      "/data_hdd/stt/KsponSpeech_sample/KsponSpeech_000085.txt\n",
      "n/ 있잖아. n/ 그/ 너 해외여행 간 적 있어?\n",
      "N 있잖아. N 그/ 너 해외여행 간 적 있어?\n",
      "-------\n",
      "/data_hdd/stt/KsponSpeech_sample/KsponSpeech_000079.txt\n",
      "진에어나 이런 거 타봤어?\n",
      "진에어나 이런 거 타봤어?\n",
      "-------\n",
      "/data_hdd/stt/KsponSpeech_sample/KsponSpeech_000067.txt\n",
      "어쨌든 걔네+ 걔네랑 이제 내일 오랜만에 만나가지고 밥 먹기로 했는데\n",
      "어쨌든 걔네+ 걔네랑 이제 내일 오랜만에 만나가지고 밥 먹기로 했는데\n",
      "-------\n",
      "/data_hdd/stt/KsponSpeech_sample/KsponSpeech_000045.txt\n",
      "불가리아 그쪽인가?\n",
      "불가리아 그쪽인가?\n",
      "-------\n",
      "/data_hdd/stt/KsponSpeech_sample/KsponSpeech_000020.txt\n",
      "o/ 아 b/ 설 연휴 때? 집에 있겠네 그럼 거의? b/ 음 그 옆집 사는 애?\n",
      "O 아 B 설 연휴 때? 집에 있겠네 그럼 거의? B 음 그 옆집 사는 애?\n",
      "-------\n",
      "/data_hdd/stt/KsponSpeech_sample/KsponSpeech_000076.txt\n",
      "o/ 요기 살아. n/ 여기 그/ 어디지? 상수동.\n",
      "O 요기 살아. N 여기 그/ 어디지? 상수동.\n",
      "-------\n",
      "/data_hdd/stt/KsponSpeech_sample/KsponSpeech_000034.txt\n",
      "l/ 불편하잖아, 장갑.\n",
      "L 불편하잖아, 장갑.\n",
      "-------\n",
      "/data_hdd/stt/KsponSpeech_sample/KsponSpeech_000023.txt\n",
      "o/ 나 다음 주에 강릉 가는데 같이 가자. b/ 야, 너 근데 학교 기숙사에서 살면 안 되냐?\n",
      "O 나 다음 주에 강릉 가는데 같이 가자. B 야, 너 근데 학교 기숙사에서 살면 안 되냐?\n",
      "-------\n",
      "/data_hdd/stt/KsponSpeech_sample/KsponSpeech_000089.txt\n",
      "o/ 응.\n",
      "O 응.\n",
      "-------\n",
      "/data_hdd/stt/KsponSpeech_sample/KsponSpeech_000057.txt\n",
      "o/ 몰라 아직도 이유를 모르겠어.\n",
      "O 몰라 아직도 이유를 모르겠어.\n",
      "-------\n",
      "/data_hdd/stt/KsponSpeech_sample/KsponSpeech_000087.txt\n",
      "그거야 모르지.\n",
      "그거야 모르지.\n",
      "-------\n",
      "/data_hdd/stt/KsponSpeech_sample/KsponSpeech_000035.txt\n",
      "응 근데 이거 한 세 시에 끝나니까.\n",
      "응 근데 이거 한 세 시에 끝나니까.\n",
      "-------\n",
      "/data_hdd/stt/KsponSpeech_sample/KsponSpeech_000033.txt\n",
      "아 진짜 그러 에이씨 좋은 학교 다니니까 b/ 그런 것도 배우고 부럽다\n",
      "아 진짜 그러 에이씨 좋은 학교 다니니까 B 그런 것도 배우고 부럽다\n",
      "-------\n",
      "/data_hdd/stt/KsponSpeech_sample/KsponSpeech_000072.txt\n",
      "근데 너 불닭볶음면 먹었다매. b/\n",
      "근데 너 불닭볶음면 먹었다매. B\n",
      "-------\n",
      "/data_hdd/stt/KsponSpeech_sample/KsponSpeech_000081.txt\n",
      "대강 그렇게 해서 치면은 칠만 한 거 같던데\n",
      "대강 그렇게 해서 치면은 칠만 한 거 같던데\n",
      "-------\n",
      "/data_hdd/stt/KsponSpeech_sample/KsponSpeech_000049.txt\n",
      "o/ 아이* 근데 b/ 나는 너무 억지 영화* 억지스러운 웃음 유발. 그래가주고 천만 난 갈+ b/ 간다고 생각 안 했거든.\n",
      "O 아이* 근데 B 나는 너무 억지 영화* 억지스러운 웃음 유발. 그래가주고 천만 난 갈+ B 간다고 생각 안 했거든.\n",
      "-------\n",
      "/data_hdd/stt/KsponSpeech_sample/KsponSpeech_000063.txt\n",
      "바로 월정리 해수욕장 앞에.\n",
      "바로 월정리 해수욕장 앞에.\n",
      "-------\n",
      "/data_hdd/stt/KsponSpeech_sample/KsponSpeech_000059.txt\n",
      "아니, 난 모르겠더라.\n",
      "아니, 난 모르겠더라.\n",
      "-------\n",
      "/data_hdd/stt/KsponSpeech_sample/KsponSpeech_000093.txt\n",
      "아/ (13일)/(십 삼 일). 너 (13일)/(십 삼 일)날 뭐 한다 했지? n/\n",
      "아/ 13일. 너 13일날 뭐 한다 했지? N\n",
      "-------\n",
      "/data_hdd/stt/KsponSpeech_sample/KsponSpeech_000002.txt\n",
      "나는 악습은 원래 없어진다+ 없어져야 된다고 생각하긴 했는데 근데 그/ 약간 필요악으로 하나 정도쯤은 있어야 되거든. 물 뜨러 가고.\n",
      "나는 악습은 원래 없어진다+ 없어져야 된다고 생각하긴 했는데 근데 그/ 약간 필요악으로 하나 정도쯤은 있어야 되거든. 물 뜨러 가고.\n",
      "-------\n"
     ]
    }
   ],
   "source": [
    "for txt in txt_files:\n",
    "    with open(txt, 'r', encoding='cp949') as f:\n",
    "        original = f.readline().rstrip()\n",
    "        preprocessed = parsing_text(original)\n",
    "        print(txt)\n",
    "        print(original)\n",
    "        print(preprocessed)\n",
    "        print('-------')"
   ]
  },
  {
   "cell_type": "code",
   "execution_count": null,
   "metadata": {},
   "outputs": [],
   "source": []
  }
 ],
 "metadata": {
  "kernelspec": {
   "display_name": "env_LAS",
   "language": "python",
   "name": "env"
  },
  "language_info": {
   "codemirror_mode": {
    "name": "ipython",
    "version": 3
   },
   "file_extension": ".py",
   "mimetype": "text/x-python",
   "name": "python",
   "nbconvert_exporter": "python",
   "pygments_lexer": "ipython3",
   "version": "3.6.9"
  }
 },
 "nbformat": 4,
 "nbformat_minor": 4
}
